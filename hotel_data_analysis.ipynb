{
 "cells": [
  {
   "cell_type": "markdown",
   "id": "4abc90d0-e9ce-4499-9926-2ba6c8a6b017",
   "metadata": {
    "tags": []
   },
   "source": [
    "<img src=\"https://images.pexels.com/photos/7821349/pexels-photo-7821349.jpeg\"\n",
    "    style=\"width:300px; float: right; margin: 0 40px 40px 40px;\"></img>\n",
    "\n",
    "## Hotel Data Analysis Using Pandas"
   ]
  },
  {
   "cell_type": "markdown",
   "id": "3f683648-b50c-4374-873a-4be4c2a0d88f",
   "metadata": {},
   "source": [
    "<hr style=\"margin-bottom: 40px;\">\n",
    "\n",
    "## Load Data!"
   ]
  },
  {
   "cell_type": "code",
   "execution_count": 1,
   "id": "47ebc901-9cd9-4d39-92dd-a6c1482f7500",
   "metadata": {},
   "outputs": [],
   "source": [
    "import pandas as pd\n",
    "import numpy as np\n",
    "import matplotlib.pyplot as plt\n",
    "\n",
    "%matplotlib inline"
   ]
  },
  {
   "cell_type": "code",
   "execution_count": 2,
   "id": "5d47b5f9-ed87-4a6b-a038-4ca3c8577eb0",
   "metadata": {},
   "outputs": [],
   "source": [
    "# Main data is excel sheet divided in 3 sheets, use concat to pull together as 1 df\n",
    "df = pd.concat(pd.read_excel(io='hotel_revenue_historical_only.xlsx',sheet_name=None, parse_dates=True), ignore_index=True)"
   ]
  },
  {
   "cell_type": "code",
   "execution_count": 3,
   "id": "d7183231-cd82-41d5-a5e0-4aaa1d157ba0",
   "metadata": {},
   "outputs": [
    {
     "data": {
      "text/html": [
       "<div>\n",
       "<style scoped>\n",
       "    .dataframe tbody tr th:only-of-type {\n",
       "        vertical-align: middle;\n",
       "    }\n",
       "\n",
       "    .dataframe tbody tr th {\n",
       "        vertical-align: top;\n",
       "    }\n",
       "\n",
       "    .dataframe thead th {\n",
       "        text-align: right;\n",
       "    }\n",
       "</style>\n",
       "<table border=\"1\" class=\"dataframe\">\n",
       "  <thead>\n",
       "    <tr style=\"text-align: right;\">\n",
       "      <th></th>\n",
       "      <th>hotel</th>\n",
       "      <th>is_canceled</th>\n",
       "      <th>lead_time</th>\n",
       "      <th>arrival_date_year</th>\n",
       "      <th>arrival_date_month</th>\n",
       "      <th>arrival_date_week_number</th>\n",
       "      <th>arrival_date_day_of_month</th>\n",
       "      <th>stays_in_weekend_nights</th>\n",
       "      <th>stays_in_week_nights</th>\n",
       "      <th>adults</th>\n",
       "      <th>...</th>\n",
       "      <th>deposit_type</th>\n",
       "      <th>agent</th>\n",
       "      <th>company</th>\n",
       "      <th>days_in_waiting_list</th>\n",
       "      <th>customer_type</th>\n",
       "      <th>adr</th>\n",
       "      <th>required_car_parking_spaces</th>\n",
       "      <th>total_of_special_requests</th>\n",
       "      <th>reservation_status</th>\n",
       "      <th>reservation_status_date</th>\n",
       "    </tr>\n",
       "  </thead>\n",
       "  <tbody>\n",
       "    <tr>\n",
       "      <th>0</th>\n",
       "      <td>Resort Hotel</td>\n",
       "      <td>1</td>\n",
       "      <td>85</td>\n",
       "      <td>2018</td>\n",
       "      <td>July</td>\n",
       "      <td>27</td>\n",
       "      <td>1</td>\n",
       "      <td>0</td>\n",
       "      <td>3</td>\n",
       "      <td>2</td>\n",
       "      <td>...</td>\n",
       "      <td>No Deposit</td>\n",
       "      <td>240.0</td>\n",
       "      <td>NaN</td>\n",
       "      <td>0</td>\n",
       "      <td>Transient</td>\n",
       "      <td>82.0</td>\n",
       "      <td>0</td>\n",
       "      <td>1</td>\n",
       "      <td>Canceled</td>\n",
       "      <td>2018-05-06</td>\n",
       "    </tr>\n",
       "    <tr>\n",
       "      <th>1</th>\n",
       "      <td>Resort Hotel</td>\n",
       "      <td>1</td>\n",
       "      <td>75</td>\n",
       "      <td>2018</td>\n",
       "      <td>July</td>\n",
       "      <td>27</td>\n",
       "      <td>1</td>\n",
       "      <td>0</td>\n",
       "      <td>3</td>\n",
       "      <td>2</td>\n",
       "      <td>...</td>\n",
       "      <td>No Deposit</td>\n",
       "      <td>15.0</td>\n",
       "      <td>NaN</td>\n",
       "      <td>0</td>\n",
       "      <td>Transient</td>\n",
       "      <td>105.5</td>\n",
       "      <td>0</td>\n",
       "      <td>0</td>\n",
       "      <td>Canceled</td>\n",
       "      <td>2018-04-22</td>\n",
       "    </tr>\n",
       "    <tr>\n",
       "      <th>2</th>\n",
       "      <td>Resort Hotel</td>\n",
       "      <td>1</td>\n",
       "      <td>23</td>\n",
       "      <td>2018</td>\n",
       "      <td>July</td>\n",
       "      <td>27</td>\n",
       "      <td>1</td>\n",
       "      <td>0</td>\n",
       "      <td>4</td>\n",
       "      <td>2</td>\n",
       "      <td>...</td>\n",
       "      <td>No Deposit</td>\n",
       "      <td>240.0</td>\n",
       "      <td>NaN</td>\n",
       "      <td>0</td>\n",
       "      <td>Transient</td>\n",
       "      <td>123.0</td>\n",
       "      <td>0</td>\n",
       "      <td>0</td>\n",
       "      <td>Canceled</td>\n",
       "      <td>2018-06-23</td>\n",
       "    </tr>\n",
       "    <tr>\n",
       "      <th>3</th>\n",
       "      <td>Resort Hotel</td>\n",
       "      <td>1</td>\n",
       "      <td>60</td>\n",
       "      <td>2018</td>\n",
       "      <td>July</td>\n",
       "      <td>27</td>\n",
       "      <td>1</td>\n",
       "      <td>2</td>\n",
       "      <td>5</td>\n",
       "      <td>2</td>\n",
       "      <td>...</td>\n",
       "      <td>No Deposit</td>\n",
       "      <td>240.0</td>\n",
       "      <td>NaN</td>\n",
       "      <td>0</td>\n",
       "      <td>Transient</td>\n",
       "      <td>107.0</td>\n",
       "      <td>0</td>\n",
       "      <td>2</td>\n",
       "      <td>Canceled</td>\n",
       "      <td>2018-05-11</td>\n",
       "    </tr>\n",
       "    <tr>\n",
       "      <th>4</th>\n",
       "      <td>Resort Hotel</td>\n",
       "      <td>1</td>\n",
       "      <td>96</td>\n",
       "      <td>2018</td>\n",
       "      <td>July</td>\n",
       "      <td>27</td>\n",
       "      <td>1</td>\n",
       "      <td>2</td>\n",
       "      <td>8</td>\n",
       "      <td>2</td>\n",
       "      <td>...</td>\n",
       "      <td>No Deposit</td>\n",
       "      <td>NaN</td>\n",
       "      <td>NaN</td>\n",
       "      <td>0</td>\n",
       "      <td>Transient</td>\n",
       "      <td>108.3</td>\n",
       "      <td>0</td>\n",
       "      <td>2</td>\n",
       "      <td>Canceled</td>\n",
       "      <td>2018-05-29</td>\n",
       "    </tr>\n",
       "  </tbody>\n",
       "</table>\n",
       "<p>5 rows × 32 columns</p>\n",
       "</div>"
      ],
      "text/plain": [
       "          hotel  is_canceled  lead_time  arrival_date_year arrival_date_month  \\\n",
       "0  Resort Hotel            1         85               2018               July   \n",
       "1  Resort Hotel            1         75               2018               July   \n",
       "2  Resort Hotel            1         23               2018               July   \n",
       "3  Resort Hotel            1         60               2018               July   \n",
       "4  Resort Hotel            1         96               2018               July   \n",
       "\n",
       "   arrival_date_week_number  arrival_date_day_of_month  \\\n",
       "0                        27                          1   \n",
       "1                        27                          1   \n",
       "2                        27                          1   \n",
       "3                        27                          1   \n",
       "4                        27                          1   \n",
       "\n",
       "   stays_in_weekend_nights  stays_in_week_nights  adults  ...  deposit_type  \\\n",
       "0                        0                     3       2  ...    No Deposit   \n",
       "1                        0                     3       2  ...    No Deposit   \n",
       "2                        0                     4       2  ...    No Deposit   \n",
       "3                        2                     5       2  ...    No Deposit   \n",
       "4                        2                     8       2  ...    No Deposit   \n",
       "\n",
       "   agent company days_in_waiting_list customer_type    adr  \\\n",
       "0  240.0     NaN                    0     Transient   82.0   \n",
       "1   15.0     NaN                    0     Transient  105.5   \n",
       "2  240.0     NaN                    0     Transient  123.0   \n",
       "3  240.0     NaN                    0     Transient  107.0   \n",
       "4    NaN     NaN                    0     Transient  108.3   \n",
       "\n",
       "   required_car_parking_spaces  total_of_special_requests  reservation_status  \\\n",
       "0                            0                          1            Canceled   \n",
       "1                            0                          0            Canceled   \n",
       "2                            0                          0            Canceled   \n",
       "3                            0                          2            Canceled   \n",
       "4                            0                          2            Canceled   \n",
       "\n",
       "  reservation_status_date  \n",
       "0              2018-05-06  \n",
       "1              2018-04-22  \n",
       "2              2018-06-23  \n",
       "3              2018-05-11  \n",
       "4              2018-05-29  \n",
       "\n",
       "[5 rows x 32 columns]"
      ]
     },
     "execution_count": 3,
     "metadata": {},
     "output_type": "execute_result"
    }
   ],
   "source": [
    "df.head()"
   ]
  },
  {
   "cell_type": "code",
   "execution_count": 4,
   "id": "92c7e6cb-5d09-451e-ac50-681e13ed5b41",
   "metadata": {},
   "outputs": [
    {
     "data": {
      "text/plain": [
       "hotel                                     object\n",
       "is_canceled                                int64\n",
       "lead_time                                  int64\n",
       "arrival_date_year                          int64\n",
       "arrival_date_month                        object\n",
       "arrival_date_week_number                   int64\n",
       "arrival_date_day_of_month                  int64\n",
       "stays_in_weekend_nights                    int64\n",
       "stays_in_week_nights                       int64\n",
       "adults                                     int64\n",
       "children                                 float64\n",
       "babies                                     int64\n",
       "meal                                      object\n",
       "country                                   object\n",
       "market_segment                            object\n",
       "distribution_channel                      object\n",
       "is_repeated_guest                          int64\n",
       "previous_cancellations                     int64\n",
       "previous_bookings_not_canceled             int64\n",
       "reserved_room_type                        object\n",
       "assigned_room_type                        object\n",
       "booking_changes                            int64\n",
       "deposit_type                              object\n",
       "agent                                    float64\n",
       "company                                  float64\n",
       "days_in_waiting_list                       int64\n",
       "customer_type                             object\n",
       "adr                                      float64\n",
       "required_car_parking_spaces                int64\n",
       "total_of_special_requests                  int64\n",
       "reservation_status                        object\n",
       "reservation_status_date           datetime64[ns]\n",
       "dtype: object"
      ]
     },
     "execution_count": 4,
     "metadata": {},
     "output_type": "execute_result"
    }
   ],
   "source": [
    "df.dtypes"
   ]
  },
  {
   "cell_type": "code",
   "execution_count": 5,
   "id": "016cac3b-92d3-4fe5-9771-2fbb4a085e24",
   "metadata": {},
   "outputs": [
    {
     "data": {
      "text/html": [
       "<div>\n",
       "<style scoped>\n",
       "    .dataframe tbody tr th:only-of-type {\n",
       "        vertical-align: middle;\n",
       "    }\n",
       "\n",
       "    .dataframe tbody tr th {\n",
       "        vertical-align: top;\n",
       "    }\n",
       "\n",
       "    .dataframe thead th {\n",
       "        text-align: right;\n",
       "    }\n",
       "</style>\n",
       "<table border=\"1\" class=\"dataframe\">\n",
       "  <thead>\n",
       "    <tr style=\"text-align: right;\">\n",
       "      <th></th>\n",
       "      <th>Discount</th>\n",
       "      <th>market_segment</th>\n",
       "    </tr>\n",
       "  </thead>\n",
       "  <tbody>\n",
       "    <tr>\n",
       "      <th>0</th>\n",
       "      <td>0.00</td>\n",
       "      <td>Undefined</td>\n",
       "    </tr>\n",
       "    <tr>\n",
       "      <th>1</th>\n",
       "      <td>0.10</td>\n",
       "      <td>Direct</td>\n",
       "    </tr>\n",
       "    <tr>\n",
       "      <th>2</th>\n",
       "      <td>0.10</td>\n",
       "      <td>Groups</td>\n",
       "    </tr>\n",
       "    <tr>\n",
       "      <th>3</th>\n",
       "      <td>0.15</td>\n",
       "      <td>Corporate</td>\n",
       "    </tr>\n",
       "    <tr>\n",
       "      <th>4</th>\n",
       "      <td>0.20</td>\n",
       "      <td>Aviation</td>\n",
       "    </tr>\n",
       "    <tr>\n",
       "      <th>5</th>\n",
       "      <td>0.30</td>\n",
       "      <td>Offline TA/TO</td>\n",
       "    </tr>\n",
       "    <tr>\n",
       "      <th>6</th>\n",
       "      <td>0.30</td>\n",
       "      <td>Online TA</td>\n",
       "    </tr>\n",
       "    <tr>\n",
       "      <th>7</th>\n",
       "      <td>1.00</td>\n",
       "      <td>Complementary</td>\n",
       "    </tr>\n",
       "  </tbody>\n",
       "</table>\n",
       "</div>"
      ],
      "text/plain": [
       "   Discount market_segment\n",
       "0      0.00      Undefined\n",
       "1      0.10         Direct\n",
       "2      0.10         Groups\n",
       "3      0.15      Corporate\n",
       "4      0.20       Aviation\n",
       "5      0.30  Offline TA/TO\n",
       "6      0.30      Online TA\n",
       "7      1.00  Complementary"
      ]
     },
     "execution_count": 5,
     "metadata": {},
     "output_type": "execute_result"
    }
   ],
   "source": [
    "# load Discount data\n",
    "df_disc = pd.read_excel(io='hotel_meal_and_discount.xlsx',sheet_name='market_segment', parse_dates=True)\n",
    "df_disc"
   ]
  },
  {
   "cell_type": "code",
   "execution_count": 6,
   "id": "5170825b-481f-4bd9-8d8f-8d3e54888d7b",
   "metadata": {},
   "outputs": [
    {
     "name": "stdout",
     "output_type": "stream",
     "text": [
      "<class 'pandas.core.frame.DataFrame'>\n",
      "Int64Index: 141947 entries, 0 to 141946\n",
      "Data columns (total 33 columns):\n",
      " #   Column                          Non-Null Count   Dtype         \n",
      "---  ------                          --------------   -----         \n",
      " 0   hotel                           141947 non-null  object        \n",
      " 1   is_canceled                     141947 non-null  int64         \n",
      " 2   lead_time                       141947 non-null  int64         \n",
      " 3   arrival_date_year               141947 non-null  int64         \n",
      " 4   arrival_date_month              141947 non-null  object        \n",
      " 5   arrival_date_week_number        141947 non-null  int64         \n",
      " 6   arrival_date_day_of_month       141947 non-null  int64         \n",
      " 7   stays_in_weekend_nights         141947 non-null  int64         \n",
      " 8   stays_in_week_nights            141947 non-null  int64         \n",
      " 9   adults                          141947 non-null  int64         \n",
      " 10  children                        141939 non-null  float64       \n",
      " 11  babies                          141947 non-null  int64         \n",
      " 12  meal                            141947 non-null  object        \n",
      " 13  country                         141322 non-null  object        \n",
      " 14  market_segment                  141947 non-null  object        \n",
      " 15  distribution_channel            141947 non-null  object        \n",
      " 16  is_repeated_guest               141947 non-null  int64         \n",
      " 17  previous_cancellations          141947 non-null  int64         \n",
      " 18  previous_bookings_not_canceled  141947 non-null  int64         \n",
      " 19  reserved_room_type              141947 non-null  object        \n",
      " 20  assigned_room_type              141947 non-null  object        \n",
      " 21  booking_changes                 141947 non-null  int64         \n",
      " 22  deposit_type                    141947 non-null  object        \n",
      " 23  agent                           122392 non-null  float64       \n",
      " 24  company                         8125 non-null    float64       \n",
      " 25  days_in_waiting_list            141947 non-null  int64         \n",
      " 26  customer_type                   141947 non-null  object        \n",
      " 27  adr                             141947 non-null  float64       \n",
      " 28  required_car_parking_spaces     141947 non-null  int64         \n",
      " 29  total_of_special_requests       141947 non-null  int64         \n",
      " 30  reservation_status              141947 non-null  object        \n",
      " 31  reservation_status_date         141947 non-null  datetime64[ns]\n",
      " 32  Discount                        141947 non-null  float64       \n",
      "dtypes: datetime64[ns](1), float64(5), int64(16), object(11)\n",
      "memory usage: 36.8+ MB\n"
     ]
    }
   ],
   "source": [
    "# Join the discount price data\n",
    "df = pd.merge(df, df_disc, how='left', left_on='market_segment', right_on='market_segment')\n",
    "df.info()"
   ]
  },
  {
   "cell_type": "code",
   "execution_count": 7,
   "id": "2042fcf2-1e3e-4a0d-aa7d-9311aea4956e",
   "metadata": {},
   "outputs": [
    {
     "data": {
      "text/html": [
       "<div>\n",
       "<style scoped>\n",
       "    .dataframe tbody tr th:only-of-type {\n",
       "        vertical-align: middle;\n",
       "    }\n",
       "\n",
       "    .dataframe tbody tr th {\n",
       "        vertical-align: top;\n",
       "    }\n",
       "\n",
       "    .dataframe thead th {\n",
       "        text-align: right;\n",
       "    }\n",
       "</style>\n",
       "<table border=\"1\" class=\"dataframe\">\n",
       "  <thead>\n",
       "    <tr style=\"text-align: right;\">\n",
       "      <th></th>\n",
       "      <th>Cost</th>\n",
       "      <th>meal</th>\n",
       "    </tr>\n",
       "  </thead>\n",
       "  <tbody>\n",
       "    <tr>\n",
       "      <th>0</th>\n",
       "      <td>0.00</td>\n",
       "      <td>Undefined</td>\n",
       "    </tr>\n",
       "    <tr>\n",
       "      <th>1</th>\n",
       "      <td>12.99</td>\n",
       "      <td>BB</td>\n",
       "    </tr>\n",
       "    <tr>\n",
       "      <th>2</th>\n",
       "      <td>17.99</td>\n",
       "      <td>HB</td>\n",
       "    </tr>\n",
       "    <tr>\n",
       "      <th>3</th>\n",
       "      <td>21.99</td>\n",
       "      <td>FB</td>\n",
       "    </tr>\n",
       "    <tr>\n",
       "      <th>4</th>\n",
       "      <td>35.00</td>\n",
       "      <td>SC</td>\n",
       "    </tr>\n",
       "  </tbody>\n",
       "</table>\n",
       "</div>"
      ],
      "text/plain": [
       "    Cost       meal\n",
       "0   0.00  Undefined\n",
       "1  12.99         BB\n",
       "2  17.99         HB\n",
       "3  21.99         FB\n",
       "4  35.00         SC"
      ]
     },
     "execution_count": 7,
     "metadata": {},
     "output_type": "execute_result"
    }
   ],
   "source": [
    "# load meal price data\n",
    "df_meal = pd.read_excel(io='hotel_meal_and_discount.xlsx',sheet_name='meal_cost', parse_dates=True)\n",
    "df_meal"
   ]
  },
  {
   "cell_type": "code",
   "execution_count": 8,
   "id": "0013de76-a9b7-4d42-8d88-d7f51c4df1c3",
   "metadata": {},
   "outputs": [
    {
     "name": "stdout",
     "output_type": "stream",
     "text": [
      "<class 'pandas.core.frame.DataFrame'>\n",
      "Int64Index: 141947 entries, 0 to 141946\n",
      "Data columns (total 34 columns):\n",
      " #   Column                          Non-Null Count   Dtype         \n",
      "---  ------                          --------------   -----         \n",
      " 0   hotel                           141947 non-null  object        \n",
      " 1   is_canceled                     141947 non-null  int64         \n",
      " 2   lead_time                       141947 non-null  int64         \n",
      " 3   arrival_date_year               141947 non-null  int64         \n",
      " 4   arrival_date_month              141947 non-null  object        \n",
      " 5   arrival_date_week_number        141947 non-null  int64         \n",
      " 6   arrival_date_day_of_month       141947 non-null  int64         \n",
      " 7   stays_in_weekend_nights         141947 non-null  int64         \n",
      " 8   stays_in_week_nights            141947 non-null  int64         \n",
      " 9   adults                          141947 non-null  int64         \n",
      " 10  children                        141939 non-null  float64       \n",
      " 11  babies                          141947 non-null  int64         \n",
      " 12  meal                            141947 non-null  object        \n",
      " 13  country                         141322 non-null  object        \n",
      " 14  market_segment                  141947 non-null  object        \n",
      " 15  distribution_channel            141947 non-null  object        \n",
      " 16  is_repeated_guest               141947 non-null  int64         \n",
      " 17  previous_cancellations          141947 non-null  int64         \n",
      " 18  previous_bookings_not_canceled  141947 non-null  int64         \n",
      " 19  reserved_room_type              141947 non-null  object        \n",
      " 20  assigned_room_type              141947 non-null  object        \n",
      " 21  booking_changes                 141947 non-null  int64         \n",
      " 22  deposit_type                    141947 non-null  object        \n",
      " 23  agent                           122392 non-null  float64       \n",
      " 24  company                         8125 non-null    float64       \n",
      " 25  days_in_waiting_list            141947 non-null  int64         \n",
      " 26  customer_type                   141947 non-null  object        \n",
      " 27  adr                             141947 non-null  float64       \n",
      " 28  required_car_parking_spaces     141947 non-null  int64         \n",
      " 29  total_of_special_requests       141947 non-null  int64         \n",
      " 30  reservation_status              141947 non-null  object        \n",
      " 31  reservation_status_date         141947 non-null  datetime64[ns]\n",
      " 32  Discount                        141947 non-null  float64       \n",
      " 33  Cost                            141947 non-null  float64       \n",
      "dtypes: datetime64[ns](1), float64(6), int64(16), object(11)\n",
      "memory usage: 37.9+ MB\n"
     ]
    }
   ],
   "source": [
    "# Join the meal price data\n",
    "df = pd.merge(df, df_meal, how='left', left_on='meal', right_on='meal')\n",
    "df.info()"
   ]
  },
  {
   "cell_type": "code",
   "execution_count": 9,
   "id": "7a5abdee-79e8-4983-8140-48ec117a06ed",
   "metadata": {},
   "outputs": [],
   "source": [
    "# add total_stay_night\n",
    "df['total_stay_night']=(df['stays_in_weekend_nights']+df['stays_in_week_nights'])\n",
    "# add revenue column by multiply date stay and adr (avg daily rate) and discount\n",
    "df['revenue'] = df['total_stay_night']*df['adr']*df['Discount']"
   ]
  },
  {
   "cell_type": "code",
   "execution_count": 10,
   "id": "71b69fb0-b544-405e-af20-e0f8548cad2f",
   "metadata": {},
   "outputs": [
    {
     "data": {
      "text/plain": [
       "0     73.80\n",
       "1     94.95\n",
       "2    147.60\n",
       "3    224.70\n",
       "4    108.30\n",
       "Name: revenue, dtype: float64"
      ]
     },
     "execution_count": 10,
     "metadata": {},
     "output_type": "execute_result"
    }
   ],
   "source": [
    "df['revenue'].head()"
   ]
  },
  {
   "cell_type": "markdown",
   "id": "8e923fd5-c90e-4c26-82d7-d705f206b0c9",
   "metadata": {},
   "source": [
    "<hr style=\"margin-bottom: 40px;\">\n",
    "\n",
    "### 1. Is our hotel revenue growing by the year?"
   ]
  },
  {
   "cell_type": "code",
   "execution_count": 20,
   "id": "079c8933-aff2-479e-9207-f8d87fed4c9c",
   "metadata": {},
   "outputs": [
    {
     "data": {
      "text/html": [
       "<div>\n",
       "<style scoped>\n",
       "    .dataframe tbody tr th:only-of-type {\n",
       "        vertical-align: middle;\n",
       "    }\n",
       "\n",
       "    .dataframe tbody tr th {\n",
       "        vertical-align: top;\n",
       "    }\n",
       "\n",
       "    .dataframe thead th {\n",
       "        text-align: right;\n",
       "    }\n",
       "</style>\n",
       "<table border=\"1\" class=\"dataframe\">\n",
       "  <thead>\n",
       "    <tr style=\"text-align: right;\">\n",
       "      <th></th>\n",
       "      <th>reservation_status_date</th>\n",
       "      <th>revenue</th>\n",
       "    </tr>\n",
       "  </thead>\n",
       "  <tbody>\n",
       "    <tr>\n",
       "      <th>0</th>\n",
       "      <td>2014-10-17</td>\n",
       "      <td>4521.600</td>\n",
       "    </tr>\n",
       "    <tr>\n",
       "      <th>1</th>\n",
       "      <td>2014-11-18</td>\n",
       "      <td>0.000</td>\n",
       "    </tr>\n",
       "    <tr>\n",
       "      <th>2</th>\n",
       "      <td>2018-01-01</td>\n",
       "      <td>10259.785</td>\n",
       "    </tr>\n",
       "    <tr>\n",
       "      <th>3</th>\n",
       "      <td>2018-01-02</td>\n",
       "      <td>107.898</td>\n",
       "    </tr>\n",
       "    <tr>\n",
       "      <th>4</th>\n",
       "      <td>2018-01-18</td>\n",
       "      <td>0.000</td>\n",
       "    </tr>\n",
       "  </tbody>\n",
       "</table>\n",
       "</div>"
      ],
      "text/plain": [
       "  reservation_status_date    revenue\n",
       "0              2014-10-17   4521.600\n",
       "1              2014-11-18      0.000\n",
       "2              2018-01-01  10259.785\n",
       "3              2018-01-02    107.898\n",
       "4              2018-01-18      0.000"
      ]
     },
     "execution_count": 20,
     "metadata": {},
     "output_type": "execute_result"
    }
   ],
   "source": [
    "# year_revenue=df.groupby(['arrival_date_year'])['revenue'].sum().reset_index()\n",
    "# year_revenue\n",
    "date_revenue = df.groupby('reservation_status_date')['revenue'].sum().reset_index()\n",
    "date_revenue.head()"
   ]
  },
  {
   "cell_type": "code",
   "execution_count": 58,
   "id": "4c8cfd62-80e2-49e8-bf8a-8987dfc7db6a",
   "metadata": {},
   "outputs": [
    {
     "name": "stderr",
     "output_type": "stream",
     "text": [
      "C:\\Users\\edwin\\AppData\\Local\\Temp/ipykernel_14220/2928801050.py:6: UserWarning: FixedFormatter should only be used together with FixedLocator\n",
      "  ch.set_xticklabels(labels=filt['reservation_status_date'], rotation=45)\n"
     ]
    },
    {
     "data": {
      "image/png": "[encoded data removed]",
      "text/plain": [
       "<Figure size 432x288 with 1 Axes>"
      ]
     },
     "metadata": {
      "needs_background": "light"
     },
     "output_type": "display_data"
    }
   ],
   "source": [
    "from matplotlib import dates\n",
    "import seaborn as sns\n",
    "filt=date_revenue[date_revenue['reservation_status_date']>='1/1/2018']\n",
    "fig, ax = plt.subplots()\n",
    "ch = sns.lineplot(data=filt, x='reservation_status_date', y='revenue')\n",
    "ch.set_xticklabels(labels=filt['reservation_status_date'], rotation=45)\n",
    "ax.xaxis.set_major_formatter(dates.DateFormatter('%d-%b-%y'))\n",
    "plt.show()"
   ]
  },
  {
   "cell_type": "code",
   "execution_count": 13,
   "id": "ea3c34e8-da50-4c9d-8ac5-eecdd3c2f8b1",
   "metadata": {},
   "outputs": [
    {
     "data": {
      "text/html": [
       "<div>\n",
       "<style scoped>\n",
       "    .dataframe tbody tr th:only-of-type {\n",
       "        vertical-align: middle;\n",
       "    }\n",
       "\n",
       "    .dataframe tbody tr th {\n",
       "        vertical-align: top;\n",
       "    }\n",
       "\n",
       "    .dataframe thead th {\n",
       "        text-align: right;\n",
       "    }\n",
       "</style>\n",
       "<table border=\"1\" class=\"dataframe\">\n",
       "  <thead>\n",
       "    <tr style=\"text-align: right;\">\n",
       "      <th>hotel</th>\n",
       "      <th>arrival_date_year</th>\n",
       "      <th>City Hotel</th>\n",
       "      <th>Resort Hotel</th>\n",
       "    </tr>\n",
       "  </thead>\n",
       "  <tbody>\n",
       "    <tr>\n",
       "      <th>0</th>\n",
       "      <td>2018</td>\n",
       "      <td>7.050551e+05</td>\n",
       "      <td>8.529820e+05</td>\n",
       "    </tr>\n",
       "    <tr>\n",
       "      <th>1</th>\n",
       "      <td>2019</td>\n",
       "      <td>3.837424e+06</td>\n",
       "      <td>2.604962e+06</td>\n",
       "    </tr>\n",
       "    <tr>\n",
       "      <th>2</th>\n",
       "      <td>2020</td>\n",
       "      <td>2.626905e+06</td>\n",
       "      <td>1.702949e+06</td>\n",
       "    </tr>\n",
       "  </tbody>\n",
       "</table>\n",
       "</div>"
      ],
      "text/plain": [
       "hotel  arrival_date_year    City Hotel  Resort Hotel\n",
       "0                   2018  7.050551e+05  8.529820e+05\n",
       "1                   2019  3.837424e+06  2.604962e+06\n",
       "2                   2020  2.626905e+06  1.702949e+06"
      ]
     },
     "execution_count": 13,
     "metadata": {},
     "output_type": "execute_result"
    }
   ],
   "source": [
    "year_revenue_perhotel=df.groupby(['reservation_status_date', 'hotel'])['revenue'].sum().unstack().reset_index()\n",
    "year_revenue_perhotel"
   ]
  },
  {
   "cell_type": "code",
   "execution_count": 14,
   "id": "ddbd42a3-280c-432e-b992-b8f781d0b16d",
   "metadata": {},
   "outputs": [
    {
     "data": {
      "image/png": "[encoded data removed]",
      "text/plain": [
       "<Figure size 432x288 with 1 Axes>"
      ]
     },
     "metadata": {
      "needs_background": "light"
     },
     "output_type": "display_data"
    }
   ],
   "source": [
    "# year_revenue_perhotel.plot(kind='bar')\n",
    "width=0.4\n",
    "fig, ax = plt.subplots()\n",
    "ax.barh(year_revenue_perhotel['arrival_date_year'].sort_values(ascending=False), \n",
    "        year_revenue_perhotel['City Hotel'], width)\n",
    "ax.barh(year_revenue_perhotel['arrival_date_year'].sort_values(ascending=False) + width, \n",
    "        year_revenue_perhotel['Resort Hotel'], width)\n",
    "ax.set_title('Yearly Revenue')\n",
    "ax.set_yticks(year_revenue_perhotel['arrival_date_year'])\n",
    "ax.set_yticklabels(sorted(list(year_revenue_perhotel['arrival_date_year']), reverse=True))\n",
    "ax.set_xlabel('revenue (Millions)')\n",
    "ax.legend(['City Hotel', 'Resort Hotel'])\n",
    "plt.show()"
   ]
  },
  {
   "cell_type": "markdown",
   "id": "0407ef04-34b3-4b67-8cfc-1b727ae3152e",
   "metadata": {},
   "source": [
    "## Conclusion 1:\n",
    "#### Overall revenue trend is increasing, dropped if compared by year due to <span style=\"color:blue\"> 2020 data is only until August </span>\n",
    "\n",
    "<hr style=\"margin-bottom: 40px;\">\n",
    "\n",
    "## Question 2:\n",
    "#### Should we increase our parking lot size?"
   ]
  },
  {
   "cell_type": "code",
   "execution_count": 16,
   "id": "c0270580-68f1-4eeb-a3c8-903885bfffd6",
   "metadata": {
    "tags": []
   },
   "outputs": [
    {
     "data": {
      "text/html": [
       "<div>\n",
       "<style scoped>\n",
       "    .dataframe tbody tr th:only-of-type {\n",
       "        vertical-align: middle;\n",
       "    }\n",
       "\n",
       "    .dataframe tbody tr th {\n",
       "        vertical-align: top;\n",
       "    }\n",
       "\n",
       "    .dataframe thead th {\n",
       "        text-align: right;\n",
       "    }\n",
       "</style>\n",
       "<table border=\"1\" class=\"dataframe\">\n",
       "  <thead>\n",
       "    <tr style=\"text-align: right;\">\n",
       "      <th></th>\n",
       "      <th></th>\n",
       "      <th>park_space</th>\n",
       "      <th>total_nights</th>\n",
       "      <th>park_space_percentage</th>\n",
       "    </tr>\n",
       "    <tr>\n",
       "      <th>arrival_date_year</th>\n",
       "      <th></th>\n",
       "      <th></th>\n",
       "      <th></th>\n",
       "      <th></th>\n",
       "    </tr>\n",
       "  </thead>\n",
       "  <tbody>\n",
       "    <tr>\n",
       "      <th>2018</th>\n",
       "      <th>0</th>\n",
       "      <td>1352</td>\n",
       "      <td>74588</td>\n",
       "      <td>1.812624</td>\n",
       "    </tr>\n",
       "    <tr>\n",
       "      <th>2019</th>\n",
       "      <th>0</th>\n",
       "      <td>5230</td>\n",
       "      <td>265856</td>\n",
       "      <td>1.967230</td>\n",
       "    </tr>\n",
       "    <tr>\n",
       "      <th>2020</th>\n",
       "      <th>0</th>\n",
       "      <td>2237</td>\n",
       "      <td>145450</td>\n",
       "      <td>1.537986</td>\n",
       "    </tr>\n",
       "  </tbody>\n",
       "</table>\n",
       "</div>"
      ],
      "text/plain": [
       "                     park_space  total_nights  park_space_percentage\n",
       "arrival_date_year                                                   \n",
       "2018              0        1352         74588               1.812624\n",
       "2019              0        5230        265856               1.967230\n",
       "2020              0        2237        145450               1.537986"
      ]
     },
     "execution_count": 16,
     "metadata": {},
     "output_type": "execute_result"
    }
   ],
   "source": [
    "df_cars = df.groupby('arrival_date_year').apply(lambda x: pd.DataFrame([[x['required_car_parking_spaces'].sum(),\n",
    "                                                                        x['total_stay_night'].sum(),\n",
    "                                                                       x['required_car_parking_spaces'].sum()/x['total_stay_night'].sum()*100]], \n",
    "                                                                       columns=['park_space', 'total_nights', 'park_space_percentage']))\n",
    "df_cars"
   ]
  },
  {
   "cell_type": "markdown",
   "id": "f8d8f0dd-c63b-4356-afff-68ac9f71bfbf",
   "metadata": {
    "tags": []
   },
   "source": [
    "## Conclusion 2:\n",
    "#### There are only <span style=\"color:blue;font-size:18.0pt\"> \\<2% </span> of car parking used per year, no need to increase parking space\n",
    "\n",
    "<hr style=\"margin-bottom: 40px;\">\n",
    "\n",
    "## Export the data to CSV for Further Visualization"
   ]
  },
  {
   "cell_type": "code",
   "execution_count": 62,
   "id": "c55da040-2106-4a83-9e17-a2ba88f0ce0d",
   "metadata": {},
   "outputs": [],
   "source": [
    "df.to_csv('combined_hotel_data.csv', index=False)"
   ]
  }
 ],
 "metadata": {
  "kernelspec": {
   "display_name": "Python 3 (ipykernel)",
   "language": "python",
   "name": "python3"
  },
  "language_info": {
   "codemirror_mode": {
    "name": "ipython",
    "version": 3
   },
   "file_extension": ".py",
   "mimetype": "text/x-python",
   "name": "python",
   "nbconvert_exporter": "python",
   "pygments_lexer": "ipython3",
   "version": "3.9.7"
  }
 },
 "nbformat": 4,
 "nbformat_minor": 5
}
