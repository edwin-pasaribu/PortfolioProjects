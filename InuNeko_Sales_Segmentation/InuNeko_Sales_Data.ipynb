{
 "cells": [
  {
   "cell_type": "markdown",
   "id": "556b19c7-39a2-4d64-a0a4-17cff569389a",
   "metadata": {},
   "source": [
    "\n",
    "# Inu Neko Sales Data Exploration\n",
    "\n",
    "This is the analysis of Inu Neko Sales Data, references used are as follows:\n",
    "* [alicert](https://www.kaggle.com/datasets/alicert/ecommerce-online-sales-data-frame) Dataset from Kaggle\n",
    "* [joshuaswords](https://www.kaggle.com/code/joshuaswords/netflix-data-visualization) Viz Ideas\n",
    "* [subinium](https://www.kaggle.com/code/subinium/awesome-visualization-with-titanic-dataset/notebook)  Viz Ideas\n",
    "* [@awsmcolor](https://www.instagram.com/awsmcolor/?hl=en) Color Pallete Ideas"
   ]
  },
  {
   "cell_type": "markdown",
   "id": "c31094ee-2d8d-4a6b-939f-df66ca1f8a0d",
   "metadata": {},
   "source": [
    "\n",
    "### Importing libraries\n",
    "\n",
    "We'll be using these libraries:\n",
    "* **numpy** for array related and some stats function\n",
    "* **pandas** for data exploration and processing\n",
    "* **seaborn** and **matplotlib** for visualization related"
   ]
  },
  {
   "cell_type": "code",
   "execution_count": 1,
   "id": "9859df7b-b3bc-4972-9c8c-2b8361f23248",
   "metadata": {},
   "outputs": [],
   "source": [
    "import numpy as np\n",
    "\n",
    "import pandas as pd\n",
    "import seaborn as sns\n",
    "\n",
    "import matplotlib\n",
    "import matplotlib.pyplot as plt\n",
    "\n",
    "from matplotlib.ticker import FormatStrFormatter"
   ]
  },
  {
   "cell_type": "code",
   "execution_count": 2,
   "id": "ed920cef-6cfc-459e-a095-f9122b982bbc",
   "metadata": {},
   "outputs": [
    {
     "data": {
      "text/html": [
       "<div>\n",
       "<style scoped>\n",
       "    .dataframe tbody tr th:only-of-type {\n",
       "        vertical-align: middle;\n",
       "    }\n",
       "\n",
       "    .dataframe tbody tr th {\n",
       "        vertical-align: top;\n",
       "    }\n",
       "\n",
       "    .dataframe thead th {\n",
       "        text-align: right;\n",
       "    }\n",
       "</style>\n",
       "<table border=\"1\" class=\"dataframe\">\n",
       "  <thead>\n",
       "    <tr style=\"text-align: right;\">\n",
       "      <th></th>\n",
       "      <th>trans_id</th>\n",
       "      <th>prod_upc</th>\n",
       "      <th>cust_id</th>\n",
       "      <th>trans_timestamp</th>\n",
       "      <th>trans_year</th>\n",
       "      <th>trans_month</th>\n",
       "      <th>trans_day</th>\n",
       "      <th>trans_hour</th>\n",
       "      <th>trans_quantity</th>\n",
       "      <th>cust_age</th>\n",
       "      <th>cust_state</th>\n",
       "      <th>prod_price</th>\n",
       "      <th>prod_title</th>\n",
       "      <th>prod_category</th>\n",
       "      <th>prod_animal_type</th>\n",
       "      <th>total_sales</th>\n",
       "    </tr>\n",
       "  </thead>\n",
       "  <tbody>\n",
       "    <tr>\n",
       "      <th>0</th>\n",
       "      <td>10300097</td>\n",
       "      <td>719638485153</td>\n",
       "      <td>1001019</td>\n",
       "      <td>2021-01-01 07:35:21.439873</td>\n",
       "      <td>2021</td>\n",
       "      <td>1</td>\n",
       "      <td>1</td>\n",
       "      <td>1</td>\n",
       "      <td>1</td>\n",
       "      <td>20</td>\n",
       "      <td>New York</td>\n",
       "      <td>72.99</td>\n",
       "      <td>Cat Cave</td>\n",
       "      <td>bedding</td>\n",
       "      <td>cat</td>\n",
       "      <td>72.99</td>\n",
       "    </tr>\n",
       "    <tr>\n",
       "      <th>1</th>\n",
       "      <td>10300093</td>\n",
       "      <td>73201504044</td>\n",
       "      <td>1001015</td>\n",
       "      <td>2021-01-01 09:33:37.499660</td>\n",
       "      <td>2021</td>\n",
       "      <td>1</td>\n",
       "      <td>1</td>\n",
       "      <td>1</td>\n",
       "      <td>1</td>\n",
       "      <td>34</td>\n",
       "      <td>New York</td>\n",
       "      <td>18.95</td>\n",
       "      <td>Purrfect Puree</td>\n",
       "      <td>treat</td>\n",
       "      <td>cat</td>\n",
       "      <td>18.95</td>\n",
       "    </tr>\n",
       "    <tr>\n",
       "      <th>2</th>\n",
       "      <td>10300093</td>\n",
       "      <td>719638485153</td>\n",
       "      <td>1001015</td>\n",
       "      <td>2021-01-01 09:33:37.499660</td>\n",
       "      <td>2021</td>\n",
       "      <td>1</td>\n",
       "      <td>1</td>\n",
       "      <td>1</td>\n",
       "      <td>1</td>\n",
       "      <td>34</td>\n",
       "      <td>New York</td>\n",
       "      <td>72.99</td>\n",
       "      <td>Cat Cave</td>\n",
       "      <td>bedding</td>\n",
       "      <td>cat</td>\n",
       "      <td>72.99</td>\n",
       "    </tr>\n",
       "    <tr>\n",
       "      <th>3</th>\n",
       "      <td>10300093</td>\n",
       "      <td>441530839394</td>\n",
       "      <td>1001015</td>\n",
       "      <td>2021-01-01 09:33:37.499660</td>\n",
       "      <td>2021</td>\n",
       "      <td>1</td>\n",
       "      <td>1</td>\n",
       "      <td>1</td>\n",
       "      <td>2</td>\n",
       "      <td>34</td>\n",
       "      <td>New York</td>\n",
       "      <td>28.45</td>\n",
       "      <td>Ball and String</td>\n",
       "      <td>toy</td>\n",
       "      <td>cat</td>\n",
       "      <td>56.90</td>\n",
       "    </tr>\n",
       "    <tr>\n",
       "      <th>4</th>\n",
       "      <td>10300093</td>\n",
       "      <td>733426809698</td>\n",
       "      <td>1001015</td>\n",
       "      <td>2021-01-01 09:33:37.499660</td>\n",
       "      <td>2021</td>\n",
       "      <td>1</td>\n",
       "      <td>1</td>\n",
       "      <td>1</td>\n",
       "      <td>1</td>\n",
       "      <td>34</td>\n",
       "      <td>New York</td>\n",
       "      <td>18.95</td>\n",
       "      <td>Yum Fish-Dish</td>\n",
       "      <td>food</td>\n",
       "      <td>cat</td>\n",
       "      <td>18.95</td>\n",
       "    </tr>\n",
       "  </tbody>\n",
       "</table>\n",
       "</div>"
      ],
      "text/plain": [
       "   trans_id      prod_upc  cust_id             trans_timestamp  trans_year  \\\n",
       "0  10300097  719638485153  1001019  2021-01-01 07:35:21.439873        2021   \n",
       "1  10300093   73201504044  1001015  2021-01-01 09:33:37.499660        2021   \n",
       "2  10300093  719638485153  1001015  2021-01-01 09:33:37.499660        2021   \n",
       "3  10300093  441530839394  1001015  2021-01-01 09:33:37.499660        2021   \n",
       "4  10300093  733426809698  1001015  2021-01-01 09:33:37.499660        2021   \n",
       "\n",
       "   trans_month  trans_day  trans_hour  trans_quantity  cust_age cust_state  \\\n",
       "0            1          1           1               1        20   New York   \n",
       "1            1          1           1               1        34   New York   \n",
       "2            1          1           1               1        34   New York   \n",
       "3            1          1           1               2        34   New York   \n",
       "4            1          1           1               1        34   New York   \n",
       "\n",
       "   prod_price       prod_title prod_category prod_animal_type  total_sales  \n",
       "0       72.99         Cat Cave       bedding              cat        72.99  \n",
       "1       18.95   Purrfect Puree         treat              cat        18.95  \n",
       "2       72.99         Cat Cave       bedding              cat        72.99  \n",
       "3       28.45  Ball and String           toy              cat        56.90  \n",
       "4       18.95    Yum Fish-Dish          food              cat        18.95  "
      ]
     },
     "execution_count": 2,
     "metadata": {},
     "output_type": "execute_result"
    }
   ],
   "source": [
    "# read and check the data\n",
    "df = pd.read_csv('inu_neko_orderline_clean.csv')\n",
    "df.head()"
   ]
  },
  {
   "cell_type": "code",
   "execution_count": 3,
   "id": "23b83b2c-0c4c-4c90-8a79-184a986a27fa",
   "metadata": {},
   "outputs": [
    {
     "data": {
      "text/plain": [
       "trans_id              int64\n",
       "prod_upc              int64\n",
       "cust_id               int64\n",
       "trans_timestamp      object\n",
       "trans_year            int64\n",
       "trans_month           int64\n",
       "trans_day             int64\n",
       "trans_hour            int64\n",
       "trans_quantity        int64\n",
       "cust_age              int64\n",
       "cust_state           object\n",
       "prod_price          float64\n",
       "prod_title           object\n",
       "prod_category        object\n",
       "prod_animal_type     object\n",
       "total_sales         float64\n",
       "dtype: object"
      ]
     },
     "execution_count": 3,
     "metadata": {},
     "output_type": "execute_result"
    }
   ],
   "source": [
    "# check the dtypes\n",
    "df.dtypes"
   ]
  },
  {
   "cell_type": "code",
   "execution_count": 4,
   "id": "2d97fd81-5413-4817-8e34-7e85a936aa6a",
   "metadata": {},
   "outputs": [
    {
     "data": {
      "text/plain": [
       "0       2021-01-01\n",
       "1       2021-01-01\n",
       "2       2021-01-01\n",
       "3       2021-01-01\n",
       "4       2021-01-01\n",
       "           ...    \n",
       "38218   2021-06-30\n",
       "38219   2021-06-30\n",
       "38220   2021-06-30\n",
       "38221   2021-06-30\n",
       "38222   2021-06-30\n",
       "Name: trans_date, Length: 38223, dtype: datetime64[ns]"
      ]
     },
     "execution_count": 4,
     "metadata": {},
     "output_type": "execute_result"
    }
   ],
   "source": [
    "# some engineering for date, split into date and time\n",
    "import datetime as dt\n",
    "\n",
    "# convert the timestamp to datetime\n",
    "df['trans_timestamp']=pd.to_datetime(df['trans_timestamp'])\n",
    "\n",
    "# create new column for date only\n",
    "df['trans_date']=pd.to_datetime(df['trans_timestamp'].dt.date)\n",
    "df['trans_date']"
   ]
  },
  {
   "cell_type": "code",
   "execution_count": 5,
   "id": "a9875af4-58d1-4127-90cf-7ee2f2b65b7f",
   "metadata": {},
   "outputs": [
    {
     "data": {
      "text/plain": [
       "0        07:35\n",
       "1        09:33\n",
       "2        09:33\n",
       "3        09:33\n",
       "4        09:33\n",
       "         ...  \n",
       "38218    15:37\n",
       "38219    15:45\n",
       "38220    15:57\n",
       "38221    15:59\n",
       "38222    17:30\n",
       "Name: trans_time, Length: 38223, dtype: object"
      ]
     },
     "execution_count": 5,
     "metadata": {},
     "output_type": "execute_result"
    }
   ],
   "source": [
    "# create time column\n",
    "df['trans_time'] = df['trans_timestamp'].dt.strftime('%H:%M')\n",
    "df['trans_time']"
   ]
  },
  {
   "cell_type": "code",
   "execution_count": 6,
   "id": "9fb6fe42-2d4a-468a-bfc0-2d6f61ed4fe0",
   "metadata": {},
   "outputs": [
    {
     "data": {
      "text/plain": [
       "trans_id                     int64\n",
       "prod_upc                     int64\n",
       "cust_id                      int64\n",
       "trans_timestamp     datetime64[ns]\n",
       "trans_year                   int64\n",
       "trans_month                  int64\n",
       "trans_day                    int64\n",
       "trans_hour                   int64\n",
       "trans_quantity               int64\n",
       "cust_age                     int64\n",
       "cust_state                  object\n",
       "prod_price                 float64\n",
       "prod_title                  object\n",
       "prod_category               object\n",
       "prod_animal_type            object\n",
       "total_sales                float64\n",
       "trans_date          datetime64[ns]\n",
       "trans_time                  object\n",
       "dtype: object"
      ]
     },
     "execution_count": 6,
     "metadata": {},
     "output_type": "execute_result"
    }
   ],
   "source": [
    "df.dtypes"
   ]
  },
  {
   "cell_type": "code",
   "execution_count": 7,
   "id": "4502382b-b7a4-4c79-b71a-2ffade04b4e2",
   "metadata": {},
   "outputs": [
    {
     "data": {
      "text/plain": [
       "trans_id            0\n",
       "prod_upc            0\n",
       "cust_id             0\n",
       "trans_timestamp     0\n",
       "trans_year          0\n",
       "trans_month         0\n",
       "trans_day           0\n",
       "trans_hour          0\n",
       "trans_quantity      0\n",
       "cust_age            0\n",
       "cust_state          0\n",
       "prod_price          0\n",
       "prod_title          0\n",
       "prod_category       0\n",
       "prod_animal_type    0\n",
       "total_sales         0\n",
       "trans_date          0\n",
       "trans_time          0\n",
       "dtype: int64"
      ]
     },
     "execution_count": 7,
     "metadata": {},
     "output_type": "execute_result"
    }
   ],
   "source": [
    "# check for null values\n",
    "df.isna().sum()"
   ]
  },
  {
   "cell_type": "markdown",
   "id": "d409c3fc-5dd7-4bb3-ac76-99bfe1fb32e3",
   "metadata": {},
   "source": [
    "Data has been through cleaning phase, so the null values is 0 for all fields, this is Great!\n",
    "\n",
    "Now we can continue to visualization exploration"
   ]
  },
  {
   "cell_type": "markdown",
   "id": "a9153920-6001-436f-b6a6-3efa9b39979f",
   "metadata": {},
   "source": [
    "## 1. Quick Distribution Visualization Check\n",
    "\n",
    "We will use a color pallete courtesy of [@awsmcolor](https://www.instagram.com/awsmcolor/?hl=en) for color consistency."
   ]
  },
  {
   "cell_type": "code",
   "execution_count": 8,
   "id": "1db132d0-2e62-4c5f-bad3-d98393b699e2",
   "metadata": {},
   "outputs": [
    {
     "data": {
      "image/png": "[encoded data removed]",
      "text/plain": [
       "<Figure size 288x72 with 1 Axes>"
      ]
     },
     "metadata": {
      "needs_background": "light"
     },
     "output_type": "display_data"
    }
   ],
   "source": [
    "# Palette\n",
    "sns.palplot(['#2f404f', '#3894a1', '#f0f1ee','#c7dad3'])\n",
    "\n",
    "plt.title(\"Used color pallete for this data\",loc='left',fontfamily='serif',fontsize=15,y=1.2)\n",
    "plt.show()"
   ]
  },
  {
   "cell_type": "markdown",
   "id": "1f5c51a3-7861-4a6f-afe2-bcab3e980547",
   "metadata": {},
   "source": [
    "\n",
    "### Create quick function for quick visuals\n"
   ]
  },
  {
   "cell_type": "code",
   "execution_count": 9,
   "id": "3ae0c7f4-c1b9-4e08-aadc-f1f9ba86ec21",
   "metadata": {},
   "outputs": [
    {
     "data": {
      "text/plain": [
       "prod_animal_type\n",
       "cat    30205\n",
       "dog    22324\n",
       "Name: trans_quantity, dtype: int64"
      ]
     },
     "execution_count": 9,
     "metadata": {},
     "output_type": "execute_result"
    }
   ],
   "source": [
    "df.groupby('prod_animal_type')['trans_quantity'].sum()"
   ]
  },
  {
   "cell_type": "code",
   "execution_count": 10,
   "id": "460ea336-0215-4081-9be9-15bfb4d00682",
   "metadata": {},
   "outputs": [],
   "source": [
    "# # get only top 10 for >10 items\n",
    "# def q_chart(feat, agg_item:'str'):\n",
    "#     # df.groupby(feat).size().sort_values(ascending=False)[:10].plot(kind='bar', color='#3894a1')\n",
    "#     df.groupby(feat)[agg_item].sum().sort_values(ascending=False)[:10].plot(\n",
    "#         kind='bar', \n",
    "#         color='#3894a1',\n",
    "#         title = feat,\n",
    "#         ylabel=agg_item,\n",
    "#         xlabel='')\n",
    "#     plt.show()"
   ]
  },
  {
   "cell_type": "code",
   "execution_count": 11,
   "id": "1eb93ae9-a12b-4577-88b5-7538b07d9ea0",
   "metadata": {},
   "outputs": [],
   "source": [
    "def q_chart(feat):\n",
    "    agg_list = ['trans_quantity', 'total_sales']\n",
    "\n",
    "    fig, ax = plt.subplots(1, 2, figsize=(16, 4))\n",
    "    for i in range(2):\n",
    "        df_group = df.groupby(feat)[agg_list[i]].sum().sort_values(ascending=False)[:10]\n",
    "        ax[i].bar(df_group.index, df_group, width=0.5, \n",
    "               edgecolor='darkgray',\n",
    "               linewidth=0.6,\n",
    "                color='#3894a1')\n",
    "        ax[i].set_xticklabels(df_group.index, rotation=90)\n",
    "        ax[i].set_ylabel(agg_list[i])\n",
    "    \n",
    "    fig.text(0.4, 0.93, f'Quantity vs Sales for {feat}', fontsize=12, fontweight='bold')\n",
    "    plt.subplots_adjust(left=None, bottom=None, right=None, top=None, wspace=0.25, hspace=None)\n",
    "    plt.show()"
   ]
  },
  {
   "cell_type": "code",
   "execution_count": 12,
   "id": "b90e24c2-ec08-4351-840b-4c411e11e3ef",
   "metadata": {},
   "outputs": [
    {
     "name": "stderr",
     "output_type": "stream",
     "text": [
      "C:\\Users\\edwin\\AppData\\Local\\Temp/ipykernel_17452/297296699.py:11: UserWarning: FixedFormatter should only be used together with FixedLocator\n",
      "  ax[i].set_xticklabels(df_group.index, rotation=90)\n"
     ]
    },
    {
     "data": {
      "image/png": "[encoded data removed]",
      "text/plain": [
       "<Figure size 1152x288 with 2 Axes>"
      ]
     },
     "metadata": {
      "needs_background": "light"
     },
     "output_type": "display_data"
    },
    {
     "data": {
      "image/png": "[encoded data removed]",
      "text/plain": [
       "<Figure size 1152x288 with 2 Axes>"
      ]
     },
     "metadata": {
      "needs_background": "light"
     },
     "output_type": "display_data"
    },
    {
     "data": {
      "image/png": "[encoded data removed]",
      "text/plain": [
       "<Figure size 1152x288 with 2 Axes>"
      ]
     },
     "metadata": {
      "needs_background": "light"
     },
     "output_type": "display_data"
    },
    {
     "data": {
      "image/png": "[encoded data removed]",
      "text/plain": [
       "<Figure size 1152x288 with 2 Axes>"
      ]
     },
     "metadata": {
      "needs_background": "light"
     },
     "output_type": "display_data"
    }
   ],
   "source": [
    "# select only object type columns for the bars\n",
    "for column in df:\n",
    "    if df[column].dtype == 'object' and column!= 'trans_time':\n",
    "        q_chart(column)   "
   ]
  },
  {
   "cell_type": "markdown",
   "id": "25e0084f-177e-4dae-a540-efa2edc3fbc2",
   "metadata": {},
   "source": [
    "### From this quick plot we can already get a couple of things :\n",
    "\n",
    "* **New York** state have most bought items and highest sales value.\n",
    "* **Reddy Beddy** are the most bought item and highest sales value.\n",
    "* **Treats** are the most bought categories, but **Bedding** have highest sales value.\n",
    "* And lastly **CATs** related products is the most bought products.\n",
    "\n",
    "Overall most of the top items sold members align with the highest sales members.\n",
    "\n",
    "The product categories are interesting. \n",
    "**Bedding** highest sale value, but with only number 3 in sale quantity.\n",
    "\n",
    "Lets see what is the average price for this categories"
   ]
  },
  {
   "cell_type": "markdown",
   "id": "47a49a2a-3962-411f-82b0-4b1a0fc9137d",
   "metadata": {},
   "source": [
    "### Checking the average price of product categories"
   ]
  },
  {
   "cell_type": "code",
   "execution_count": 13,
   "id": "cd3a2d70-3d8e-4958-9ac0-7087ee357dd2",
   "metadata": {},
   "outputs": [
    {
     "data": {
      "text/plain": [
       "prod_category\n",
       "bedding    59.221242\n",
       "toy        29.865469\n",
       "treat      16.152267\n",
       "food       15.324690\n",
       "Name: prod_price, dtype: float64"
      ]
     },
     "execution_count": 13,
     "metadata": {},
     "output_type": "execute_result"
    }
   ],
   "source": [
    "df_price = df.groupby('prod_category')['prod_price'].mean()\n",
    "df_price.sort_values(ascending=False)"
   ]
  },
  {
   "cell_type": "markdown",
   "id": "2af29ed2-9423-4924-9191-f3e431ef500f",
   "metadata": {},
   "source": [
    "Confirmed, **bedding** categories have **higher price average** than other categories "
   ]
  },
  {
   "cell_type": "markdown",
   "id": "cce599f0-42cd-44c7-b75e-1e0d542bb81a",
   "metadata": {},
   "source": [
    "\n",
    "### 2. Plotting Monthly Sales\n"
   ]
  },
  {
   "cell_type": "code",
   "execution_count": 14,
   "id": "80ed9762-1332-445f-8b39-96e2090d4786",
   "metadata": {},
   "outputs": [
    {
     "data": {
      "image/png": "[encoded data removed]",
      "text/plain": [
       "<Figure size 432x288 with 1 Axes>"
      ]
     },
     "metadata": {
      "needs_background": "light"
     },
     "output_type": "display_data"
    }
   ],
   "source": [
    "df_group = df.groupby('trans_month')['total_sales'].sum().to_frame\n",
    "\n",
    "df.groupby('trans_month')['total_sales'].sum().plot(kind='bar', color='#3894a1', title='Total Sales Trend')\n",
    "plt.ylabel('total_sales')\n",
    "plt.xticks(rotation=0)\n",
    "plt.show()"
   ]
  },
  {
   "cell_type": "markdown",
   "id": "2ff57550-5437-4415-8dbe-130b35e10842",
   "metadata": {},
   "source": [
    "\n",
    "### 3. Segmenting Customer using RFM Method\n",
    "\n",
    "**RFM** (Recency, Frequency, Monetary) analysis is a customer segmentation technique that uses past purchase behavior to divide customers into groups. \n",
    "RFM helps divide customers into various categories or clusters to identify customers who are more likely to respond to promotions and also for future personalization services.\n",
    "\n",
    "- RECENCY (R): Days since last purchase\n",
    "- FREQUENCY (F): Total number of purchases\n",
    "- MONETARY VALUE (M): Total money this customer spent.\n",
    "\n",
    "We will create those 3 customer attributes for each customer.\n"
   ]
  },
  {
   "cell_type": "markdown",
   "id": "16f1c8af-aabd-453e-a820-ebbe042c3edc",
   "metadata": {},
   "source": [
    "\n",
    "### Recency\n",
    "\n",
    "To calculate recency, we need to choose a date point from which we evaluate **how many days ago was the customer's last purchase**.\n"
   ]
  },
  {
   "cell_type": "code",
   "execution_count": 15,
   "id": "52ca43ea-697b-4809-91aa-2250f769fc29",
   "metadata": {},
   "outputs": [
    {
     "data": {
      "text/plain": [
       "Timestamp('2021-06-30 00:00:00')"
      ]
     },
     "execution_count": 15,
     "metadata": {},
     "output_type": "execute_result"
    }
   ],
   "source": [
    "#last date available in our dataset\n",
    "df['trans_date'].max()"
   ]
  },
  {
   "cell_type": "markdown",
   "id": "6c38e7f6-101e-4d01-ad12-5176afd8e1a2",
   "metadata": {},
   "source": [
    "\n",
    "The last date we have is 2021-06-30 so we will use it as reference.\n"
   ]
  },
  {
   "cell_type": "code",
   "execution_count": 16,
   "id": "f93d2cc1-8ceb-4e1b-bbbb-9e614ff5bd2e",
   "metadata": {},
   "outputs": [
    {
     "name": "stdout",
     "output_type": "stream",
     "text": [
      "2021-06-30 00:00:00\n"
     ]
    }
   ],
   "source": [
    "now = pd.to_datetime(dt.date(2021,6,30))\n",
    "print(now)"
   ]
  },
  {
   "cell_type": "code",
   "execution_count": 17,
   "id": "776d7714-7f61-4e43-947f-97dec69d6816",
   "metadata": {},
   "outputs": [
    {
     "data": {
      "text/html": [
       "<div>\n",
       "<style scoped>\n",
       "    .dataframe tbody tr th:only-of-type {\n",
       "        vertical-align: middle;\n",
       "    }\n",
       "\n",
       "    .dataframe tbody tr th {\n",
       "        vertical-align: top;\n",
       "    }\n",
       "\n",
       "    .dataframe thead th {\n",
       "        text-align: right;\n",
       "    }\n",
       "</style>\n",
       "<table border=\"1\" class=\"dataframe\">\n",
       "  <thead>\n",
       "    <tr style=\"text-align: right;\">\n",
       "      <th></th>\n",
       "      <th>cust_id</th>\n",
       "      <th>last_purchase_date</th>\n",
       "    </tr>\n",
       "  </thead>\n",
       "  <tbody>\n",
       "    <tr>\n",
       "      <th>0</th>\n",
       "      <td>1001012</td>\n",
       "      <td>2021-05-31</td>\n",
       "    </tr>\n",
       "    <tr>\n",
       "      <th>1</th>\n",
       "      <td>1001013</td>\n",
       "      <td>2021-05-20</td>\n",
       "    </tr>\n",
       "    <tr>\n",
       "      <th>2</th>\n",
       "      <td>1001014</td>\n",
       "      <td>2021-05-18</td>\n",
       "    </tr>\n",
       "    <tr>\n",
       "      <th>3</th>\n",
       "      <td>1001015</td>\n",
       "      <td>2021-01-01</td>\n",
       "    </tr>\n",
       "    <tr>\n",
       "      <th>4</th>\n",
       "      <td>1001016</td>\n",
       "      <td>2021-06-09</td>\n",
       "    </tr>\n",
       "  </tbody>\n",
       "</table>\n",
       "</div>"
      ],
      "text/plain": [
       "   cust_id last_purchase_date\n",
       "0  1001012         2021-05-31\n",
       "1  1001013         2021-05-20\n",
       "2  1001014         2021-05-18\n",
       "3  1001015         2021-01-01\n",
       "4  1001016         2021-06-09"
      ]
     },
     "execution_count": 17,
     "metadata": {},
     "output_type": "execute_result"
    }
   ],
   "source": [
    "#group by customers and check last date of purshace\n",
    "recency_df = df.groupby(by='cust_id', as_index=False)['trans_date'].max()\n",
    "recency_df.columns = ['cust_id','last_purchase_date']\n",
    "recency_df.head()"
   ]
  },
  {
   "cell_type": "code",
   "execution_count": 18,
   "id": "6f794f42-5818-4d63-9161-cdbc89281418",
   "metadata": {},
   "outputs": [],
   "source": [
    "#calculate recency\n",
    "recency_df['Recency'] = recency_df['last_purchase_date'].apply(lambda x: (now - x))"
   ]
  },
  {
   "cell_type": "code",
   "execution_count": 19,
   "id": "708a34cd-bd0f-4109-971e-2ee57485788f",
   "metadata": {},
   "outputs": [
    {
     "data": {
      "text/plain": [
       "cust_id                         int64\n",
       "last_purchase_date     datetime64[ns]\n",
       "Recency               timedelta64[ns]\n",
       "dtype: object"
      ]
     },
     "execution_count": 19,
     "metadata": {},
     "output_type": "execute_result"
    }
   ],
   "source": [
    "# checking recency dtype\n",
    "recency_df.dtypes"
   ]
  },
  {
   "cell_type": "code",
   "execution_count": 20,
   "id": "0db5b5c3-11c7-4d67-9a38-38d7cbaf2039",
   "metadata": {},
   "outputs": [
    {
     "data": {
      "text/plain": [
       "cust_id                        int64\n",
       "last_purchase_date    datetime64[ns]\n",
       "Recency                        int64\n",
       "dtype: object"
      ]
     },
     "execution_count": 20,
     "metadata": {},
     "output_type": "execute_result"
    }
   ],
   "source": [
    "# converting timedelta to int 64\n",
    "recency_df['Recency'] = recency_df['Recency'].dt.days.astype('int64')\n",
    "recency_df.dtypes"
   ]
  },
  {
   "cell_type": "code",
   "execution_count": 21,
   "id": "0fb54ca0-7eea-4785-b8d8-790cf8e5bf99",
   "metadata": {},
   "outputs": [],
   "source": [
    "#drop last_purchase_date as we don't need it anymore\n",
    "recency_df.drop('last_purchase_date',axis=1,inplace=True)"
   ]
  },
  {
   "cell_type": "markdown",
   "id": "f5f29023-1507-46e9-b92a-4f4a152efb4f",
   "metadata": {},
   "source": [
    "\n",
    "### Frequency\n",
    "\n",
    "Frequency helps us to know how many times a customer purchased from us. To do that we need to check **how many invoices are registered by the same customer**.\n"
   ]
  },
  {
   "cell_type": "code",
   "execution_count": 22,
   "id": "179a43b5-7283-493f-811b-dba51bf36a62",
   "metadata": {},
   "outputs": [
    {
     "data": {
      "text/html": [
       "<div>\n",
       "<style scoped>\n",
       "    .dataframe tbody tr th:only-of-type {\n",
       "        vertical-align: middle;\n",
       "    }\n",
       "\n",
       "    .dataframe tbody tr th {\n",
       "        vertical-align: top;\n",
       "    }\n",
       "\n",
       "    .dataframe thead th {\n",
       "        text-align: right;\n",
       "    }\n",
       "</style>\n",
       "<table border=\"1\" class=\"dataframe\">\n",
       "  <thead>\n",
       "    <tr style=\"text-align: right;\">\n",
       "      <th></th>\n",
       "      <th>cust_id</th>\n",
       "      <th>Frequency</th>\n",
       "    </tr>\n",
       "  </thead>\n",
       "  <tbody>\n",
       "    <tr>\n",
       "      <th>0</th>\n",
       "      <td>1001012</td>\n",
       "      <td>2</td>\n",
       "    </tr>\n",
       "    <tr>\n",
       "      <th>1</th>\n",
       "      <td>1001013</td>\n",
       "      <td>1</td>\n",
       "    </tr>\n",
       "    <tr>\n",
       "      <th>2</th>\n",
       "      <td>1001014</td>\n",
       "      <td>3</td>\n",
       "    </tr>\n",
       "    <tr>\n",
       "      <th>3</th>\n",
       "      <td>1001015</td>\n",
       "      <td>1</td>\n",
       "    </tr>\n",
       "    <tr>\n",
       "      <th>4</th>\n",
       "      <td>1001016</td>\n",
       "      <td>2</td>\n",
       "    </tr>\n",
       "  </tbody>\n",
       "</table>\n",
       "</div>"
      ],
      "text/plain": [
       "   cust_id  Frequency\n",
       "0  1001012          2\n",
       "1  1001013          1\n",
       "2  1001014          3\n",
       "3  1001015          1\n",
       "4  1001016          2"
      ]
     },
     "execution_count": 22,
     "metadata": {},
     "output_type": "execute_result"
    }
   ],
   "source": [
    "# drop duplicates\n",
    "df_copy = df\n",
    "df_copy.drop_duplicates(subset=['trans_id', 'cust_id'], keep=\"first\", inplace=True)\n",
    "#calculate frequency of purchases\n",
    "frequency_df = df_copy.groupby(by=['cust_id'], as_index=False)['trans_id'].count()\n",
    "frequency_df.columns = ['cust_id','Frequency']\n",
    "frequency_df.head()"
   ]
  },
  {
   "cell_type": "markdown",
   "id": "3990403b-b0d4-43ea-8f04-01547419fbda",
   "metadata": {},
   "source": [
    "\n",
    "### Monetary\n",
    "\n",
    "Monetary attribute answers the question: **How much money did the customer spent over time?**\n"
   ]
  },
  {
   "cell_type": "code",
   "execution_count": 23,
   "id": "34744037-fd52-49b2-ba37-a4dd325f6b2b",
   "metadata": {},
   "outputs": [
    {
     "data": {
      "text/html": [
       "<div>\n",
       "<style scoped>\n",
       "    .dataframe tbody tr th:only-of-type {\n",
       "        vertical-align: middle;\n",
       "    }\n",
       "\n",
       "    .dataframe tbody tr th {\n",
       "        vertical-align: top;\n",
       "    }\n",
       "\n",
       "    .dataframe thead th {\n",
       "        text-align: right;\n",
       "    }\n",
       "</style>\n",
       "<table border=\"1\" class=\"dataframe\">\n",
       "  <thead>\n",
       "    <tr style=\"text-align: right;\">\n",
       "      <th></th>\n",
       "      <th>cust_id</th>\n",
       "      <th>Monetary</th>\n",
       "    </tr>\n",
       "  </thead>\n",
       "  <tbody>\n",
       "    <tr>\n",
       "      <th>0</th>\n",
       "      <td>1001012</td>\n",
       "      <td>34.90</td>\n",
       "    </tr>\n",
       "    <tr>\n",
       "      <th>1</th>\n",
       "      <td>1001013</td>\n",
       "      <td>60.99</td>\n",
       "    </tr>\n",
       "    <tr>\n",
       "      <th>2</th>\n",
       "      <td>1001014</td>\n",
       "      <td>71.95</td>\n",
       "    </tr>\n",
       "    <tr>\n",
       "      <th>3</th>\n",
       "      <td>1001015</td>\n",
       "      <td>18.95</td>\n",
       "    </tr>\n",
       "    <tr>\n",
       "      <th>4</th>\n",
       "      <td>1001016</td>\n",
       "      <td>70.94</td>\n",
       "    </tr>\n",
       "  </tbody>\n",
       "</table>\n",
       "</div>"
      ],
      "text/plain": [
       "   cust_id  Monetary\n",
       "0  1001012     34.90\n",
       "1  1001013     60.99\n",
       "2  1001014     71.95\n",
       "3  1001015     18.95\n",
       "4  1001016     70.94"
      ]
     },
     "execution_count": 23,
     "metadata": {},
     "output_type": "execute_result"
    }
   ],
   "source": [
    "monetary_df = df.groupby(by='cust_id',as_index=False).agg({'total_sales': 'sum'})\n",
    "monetary_df.columns = ['cust_id','Monetary']\n",
    "monetary_df.head()"
   ]
  },
  {
   "cell_type": "markdown",
   "id": "b9d3d234-193d-4bd2-ac5f-f71a0f3154dc",
   "metadata": {},
   "source": [
    "\n",
    "### Create RFM Table\n"
   ]
  },
  {
   "cell_type": "code",
   "execution_count": 24,
   "id": "bbf5a172-44b9-4120-ac9a-23b927056205",
   "metadata": {},
   "outputs": [
    {
     "data": {
      "text/html": [
       "<div>\n",
       "<style scoped>\n",
       "    .dataframe tbody tr th:only-of-type {\n",
       "        vertical-align: middle;\n",
       "    }\n",
       "\n",
       "    .dataframe tbody tr th {\n",
       "        vertical-align: top;\n",
       "    }\n",
       "\n",
       "    .dataframe thead th {\n",
       "        text-align: right;\n",
       "    }\n",
       "</style>\n",
       "<table border=\"1\" class=\"dataframe\">\n",
       "  <thead>\n",
       "    <tr style=\"text-align: right;\">\n",
       "      <th></th>\n",
       "      <th>cust_id</th>\n",
       "      <th>Recency</th>\n",
       "      <th>Frequency</th>\n",
       "    </tr>\n",
       "  </thead>\n",
       "  <tbody>\n",
       "    <tr>\n",
       "      <th>0</th>\n",
       "      <td>1001012</td>\n",
       "      <td>30</td>\n",
       "      <td>2</td>\n",
       "    </tr>\n",
       "    <tr>\n",
       "      <th>1</th>\n",
       "      <td>1001013</td>\n",
       "      <td>41</td>\n",
       "      <td>1</td>\n",
       "    </tr>\n",
       "    <tr>\n",
       "      <th>2</th>\n",
       "      <td>1001014</td>\n",
       "      <td>43</td>\n",
       "      <td>3</td>\n",
       "    </tr>\n",
       "    <tr>\n",
       "      <th>3</th>\n",
       "      <td>1001015</td>\n",
       "      <td>180</td>\n",
       "      <td>1</td>\n",
       "    </tr>\n",
       "    <tr>\n",
       "      <th>4</th>\n",
       "      <td>1001016</td>\n",
       "      <td>21</td>\n",
       "      <td>2</td>\n",
       "    </tr>\n",
       "  </tbody>\n",
       "</table>\n",
       "</div>"
      ],
      "text/plain": [
       "   cust_id  Recency  Frequency\n",
       "0  1001012       30          2\n",
       "1  1001013       41          1\n",
       "2  1001014       43          3\n",
       "3  1001015      180          1\n",
       "4  1001016       21          2"
      ]
     },
     "execution_count": 24,
     "metadata": {},
     "output_type": "execute_result"
    }
   ],
   "source": [
    "#merge recency dataframe with frequency dataframe\n",
    "temp_df = recency_df.merge(frequency_df,on='cust_id')\n",
    "temp_df.head()"
   ]
  },
  {
   "cell_type": "code",
   "execution_count": 25,
   "id": "c5b17c96-b067-4c05-80ec-6cf7af264516",
   "metadata": {},
   "outputs": [
    {
     "data": {
      "text/html": [
       "<div>\n",
       "<style scoped>\n",
       "    .dataframe tbody tr th:only-of-type {\n",
       "        vertical-align: middle;\n",
       "    }\n",
       "\n",
       "    .dataframe tbody tr th {\n",
       "        vertical-align: top;\n",
       "    }\n",
       "\n",
       "    .dataframe thead th {\n",
       "        text-align: right;\n",
       "    }\n",
       "</style>\n",
       "<table border=\"1\" class=\"dataframe\">\n",
       "  <thead>\n",
       "    <tr style=\"text-align: right;\">\n",
       "      <th></th>\n",
       "      <th>Recency</th>\n",
       "      <th>Frequency</th>\n",
       "      <th>Monetary</th>\n",
       "    </tr>\n",
       "    <tr>\n",
       "      <th>cust_id</th>\n",
       "      <th></th>\n",
       "      <th></th>\n",
       "      <th></th>\n",
       "    </tr>\n",
       "  </thead>\n",
       "  <tbody>\n",
       "    <tr>\n",
       "      <th>1001012</th>\n",
       "      <td>30</td>\n",
       "      <td>2</td>\n",
       "      <td>34.90</td>\n",
       "    </tr>\n",
       "    <tr>\n",
       "      <th>1001013</th>\n",
       "      <td>41</td>\n",
       "      <td>1</td>\n",
       "      <td>60.99</td>\n",
       "    </tr>\n",
       "    <tr>\n",
       "      <th>1001014</th>\n",
       "      <td>43</td>\n",
       "      <td>3</td>\n",
       "      <td>71.95</td>\n",
       "    </tr>\n",
       "    <tr>\n",
       "      <th>1001015</th>\n",
       "      <td>180</td>\n",
       "      <td>1</td>\n",
       "      <td>18.95</td>\n",
       "    </tr>\n",
       "    <tr>\n",
       "      <th>1001016</th>\n",
       "      <td>21</td>\n",
       "      <td>2</td>\n",
       "      <td>70.94</td>\n",
       "    </tr>\n",
       "  </tbody>\n",
       "</table>\n",
       "</div>"
      ],
      "text/plain": [
       "         Recency  Frequency  Monetary\n",
       "cust_id                              \n",
       "1001012       30          2     34.90\n",
       "1001013       41          1     60.99\n",
       "1001014       43          3     71.95\n",
       "1001015      180          1     18.95\n",
       "1001016       21          2     70.94"
      ]
     },
     "execution_count": 25,
     "metadata": {},
     "output_type": "execute_result"
    }
   ],
   "source": [
    "#merge with monetary dataframe to get a table with the 3 columns\n",
    "rfm_df = temp_df.merge(monetary_df,on='cust_id')\n",
    "#use CustomerID as index\n",
    "rfm_df.set_index('cust_id',inplace=True)\n",
    "#check the head\n",
    "rfm_df.head()"
   ]
  },
  {
   "cell_type": "code",
   "execution_count": 26,
   "id": "cecbcf8a-c394-4de6-bcc1-7b97e5629249",
   "metadata": {},
   "outputs": [],
   "source": [
    "### RFM Table Checking verification"
   ]
  },
  {
   "cell_type": "code",
   "execution_count": 27,
   "id": "1c2e56f7-f095-4873-99d9-6ed1c17390e1",
   "metadata": {},
   "outputs": [
    {
     "data": {
      "text/html": [
       "<div>\n",
       "<style scoped>\n",
       "    .dataframe tbody tr th:only-of-type {\n",
       "        vertical-align: middle;\n",
       "    }\n",
       "\n",
       "    .dataframe tbody tr th {\n",
       "        vertical-align: top;\n",
       "    }\n",
       "\n",
       "    .dataframe thead th {\n",
       "        text-align: right;\n",
       "    }\n",
       "</style>\n",
       "<table border=\"1\" class=\"dataframe\">\n",
       "  <thead>\n",
       "    <tr style=\"text-align: right;\">\n",
       "      <th></th>\n",
       "      <th>trans_id</th>\n",
       "      <th>prod_upc</th>\n",
       "      <th>cust_id</th>\n",
       "      <th>trans_timestamp</th>\n",
       "      <th>trans_year</th>\n",
       "      <th>trans_month</th>\n",
       "      <th>trans_day</th>\n",
       "      <th>trans_hour</th>\n",
       "      <th>trans_quantity</th>\n",
       "      <th>cust_age</th>\n",
       "      <th>cust_state</th>\n",
       "      <th>prod_price</th>\n",
       "      <th>prod_title</th>\n",
       "      <th>prod_category</th>\n",
       "      <th>prod_animal_type</th>\n",
       "      <th>total_sales</th>\n",
       "      <th>trans_date</th>\n",
       "      <th>trans_time</th>\n",
       "    </tr>\n",
       "  </thead>\n",
       "  <tbody>\n",
       "    <tr>\n",
       "      <th>5</th>\n",
       "      <td>10300091</td>\n",
       "      <td>344934101144</td>\n",
       "      <td>1001012</td>\n",
       "      <td>2021-01-01 10:08:32.241027</td>\n",
       "      <td>2021</td>\n",
       "      <td>1</td>\n",
       "      <td>1</td>\n",
       "      <td>1</td>\n",
       "      <td>1</td>\n",
       "      <td>26</td>\n",
       "      <td>New Jersey</td>\n",
       "      <td>24.95</td>\n",
       "      <td>Fetch Blaster</td>\n",
       "      <td>toy</td>\n",
       "      <td>dog</td>\n",
       "      <td>24.95</td>\n",
       "      <td>2021-01-01</td>\n",
       "      <td>10:08</td>\n",
       "    </tr>\n",
       "    <tr>\n",
       "      <th>24822</th>\n",
       "      <td>10318195</td>\n",
       "      <td>287663658863</td>\n",
       "      <td>1001012</td>\n",
       "      <td>2021-05-31 11:36:37.378388</td>\n",
       "      <td>2021</td>\n",
       "      <td>5</td>\n",
       "      <td>31</td>\n",
       "      <td>31</td>\n",
       "      <td>1</td>\n",
       "      <td>26</td>\n",
       "      <td>New Jersey</td>\n",
       "      <td>9.95</td>\n",
       "      <td>All Veggie Yummies</td>\n",
       "      <td>treat</td>\n",
       "      <td>dog</td>\n",
       "      <td>9.95</td>\n",
       "      <td>2021-05-31</td>\n",
       "      <td>11:36</td>\n",
       "    </tr>\n",
       "  </tbody>\n",
       "</table>\n",
       "</div>"
      ],
      "text/plain": [
       "       trans_id      prod_upc  cust_id            trans_timestamp  trans_year  \\\n",
       "5      10300091  344934101144  1001012 2021-01-01 10:08:32.241027        2021   \n",
       "24822  10318195  287663658863  1001012 2021-05-31 11:36:37.378388        2021   \n",
       "\n",
       "       trans_month  trans_day  trans_hour  trans_quantity  cust_age  \\\n",
       "5                1          1           1               1        26   \n",
       "24822            5         31          31               1        26   \n",
       "\n",
       "       cust_state  prod_price          prod_title prod_category  \\\n",
       "5      New Jersey       24.95       Fetch Blaster           toy   \n",
       "24822  New Jersey        9.95  All Veggie Yummies         treat   \n",
       "\n",
       "      prod_animal_type  total_sales trans_date trans_time  \n",
       "5                  dog        24.95 2021-01-01      10:08  \n",
       "24822              dog         9.95 2021-05-31      11:36  "
      ]
     },
     "execution_count": 27,
     "metadata": {},
     "output_type": "execute_result"
    }
   ],
   "source": [
    "df[df['cust_id']==1001012]"
   ]
  },
  {
   "cell_type": "code",
   "execution_count": 28,
   "id": "a9dc4c57-3538-4daa-9e22-bdc7a16964e8",
   "metadata": {},
   "outputs": [
    {
     "data": {
      "text/plain": [
       "Timedelta('30 days 00:00:00')"
      ]
     },
     "execution_count": 28,
     "metadata": {},
     "output_type": "execute_result"
    }
   ],
   "source": [
    "(now - pd.to_datetime(dt.date(2021,5,31)))"
   ]
  },
  {
   "cell_type": "markdown",
   "id": "4515adf9-ca0b-44d1-89be-d69905564089",
   "metadata": {},
   "source": [
    "\n",
    "### Customer segments with RFM Model\n",
    "\n",
    "The simplest way to create customers segments from RFM Model is to use ** Tertiles**. We assign a score from 1 to 3 to Recency, Frequency and Monetary. Four is the best/highest value, and one is the lowest/worst value. A final RFM score is calculated simply by combining individual RFM score numbers.\n"
   ]
  },
  {
   "cell_type": "markdown",
   "id": "c5d211d7-b75f-4b41-a304-a8bfec760277",
   "metadata": {},
   "source": [
    "### RFM Tertiles"
   ]
  },
  {
   "cell_type": "code",
   "execution_count": 29,
   "id": "f6f9dc3a-f437-4cd5-a71c-e3939b3cfe4c",
   "metadata": {},
   "outputs": [
    {
     "data": {
      "text/html": [
       "<div>\n",
       "<style scoped>\n",
       "    .dataframe tbody tr th:only-of-type {\n",
       "        vertical-align: middle;\n",
       "    }\n",
       "\n",
       "    .dataframe tbody tr th {\n",
       "        vertical-align: top;\n",
       "    }\n",
       "\n",
       "    .dataframe thead th {\n",
       "        text-align: right;\n",
       "    }\n",
       "</style>\n",
       "<table border=\"1\" class=\"dataframe\">\n",
       "  <thead>\n",
       "    <tr style=\"text-align: right;\">\n",
       "      <th></th>\n",
       "      <th>Recency</th>\n",
       "      <th>Frequency</th>\n",
       "      <th>Monetary</th>\n",
       "    </tr>\n",
       "  </thead>\n",
       "  <tbody>\n",
       "    <tr>\n",
       "      <th>0.33</th>\n",
       "      <td>22.0</td>\n",
       "      <td>1.0</td>\n",
       "      <td>24.95</td>\n",
       "    </tr>\n",
       "    <tr>\n",
       "      <th>0.66</th>\n",
       "      <td>57.0</td>\n",
       "      <td>1.0</td>\n",
       "      <td>59.97</td>\n",
       "    </tr>\n",
       "  </tbody>\n",
       "</table>\n",
       "</div>"
      ],
      "text/plain": [
       "      Recency  Frequency  Monetary\n",
       "0.33     22.0        1.0     24.95\n",
       "0.66     57.0        1.0     59.97"
      ]
     },
     "execution_count": 29,
     "metadata": {},
     "output_type": "execute_result"
    }
   ],
   "source": [
    "tertiles = rfm_df.quantile(q=[0.33,0.66])\n",
    "tertiles"
   ]
  },
  {
   "cell_type": "markdown",
   "id": "fe12b74d-d40d-46c4-835e-8ebf299f062b",
   "metadata": {},
   "source": [
    "\n",
    "### Creation of RFM Segments\n",
    "\n",
    "Now that we knew our customers segments we can choose how to target or deal with each segment.\n",
    "\n",
    "For example:\n",
    "\n",
    "**Best Customers - Champions**: Reward them. They can be early adopters to new products. Suggest them \"Refer a friend\".\n"
   ]
  },
  {
   "cell_type": "code",
   "execution_count": 30,
   "id": "3fc84bef-05c8-4f83-9efa-bdb9e2f8bbbd",
   "metadata": {},
   "outputs": [],
   "source": [
    "# Arguments (x = value, p = recency or monetary_value or frequency, d = tertiles dict)\n",
    "def RScore(x,p,d):\n",
    "    if x <= d[p][0.33]:\n",
    "        return 3\n",
    "    elif x <= d[p][0.66]:\n",
    "        return 2\n",
    "    else:\n",
    "        return 1\n",
    "# Arguments (x = value, p = recency or monetary_value or frequency, k = tertiles dict)\n",
    "def FMScore(x,p,d):\n",
    "    if x <= d[p][0.33]:\n",
    "        return 1\n",
    "    elif x <= d[p][0.66]:\n",
    "        return 2\n",
    "    else:\n",
    "        return 3"
   ]
  },
  {
   "cell_type": "code",
   "execution_count": 31,
   "id": "903a0800-f853-4087-9f11-b6ca0eeb155c",
   "metadata": {},
   "outputs": [],
   "source": [
    "#create rfm segmentation table\n",
    "rfm_segmentation = rfm_df\n",
    "rfm_segmentation['R_Tertile'] = rfm_segmentation['Recency'].apply(RScore, args=('Recency',tertiles,))\n",
    "rfm_segmentation['F_Tertile'] = rfm_segmentation['Frequency'].apply(FMScore, args=('Frequency',tertiles,))\n",
    "rfm_segmentation['M_Tertile'] = rfm_segmentation['Monetary'].apply(FMScore, args=('Monetary',tertiles,))"
   ]
  },
  {
   "cell_type": "code",
   "execution_count": 32,
   "id": "d30099f1-8a31-4a8c-a149-cc00c06579f8",
   "metadata": {},
   "outputs": [
    {
     "data": {
      "text/html": [
       "<div>\n",
       "<style scoped>\n",
       "    .dataframe tbody tr th:only-of-type {\n",
       "        vertical-align: middle;\n",
       "    }\n",
       "\n",
       "    .dataframe tbody tr th {\n",
       "        vertical-align: top;\n",
       "    }\n",
       "\n",
       "    .dataframe thead th {\n",
       "        text-align: right;\n",
       "    }\n",
       "</style>\n",
       "<table border=\"1\" class=\"dataframe\">\n",
       "  <thead>\n",
       "    <tr style=\"text-align: right;\">\n",
       "      <th></th>\n",
       "      <th>Recency</th>\n",
       "      <th>Frequency</th>\n",
       "      <th>Monetary</th>\n",
       "      <th>R_Tertile</th>\n",
       "      <th>F_Tertile</th>\n",
       "      <th>M_Tertile</th>\n",
       "      <th>RFM_Score</th>\n",
       "    </tr>\n",
       "    <tr>\n",
       "      <th>cust_id</th>\n",
       "      <th></th>\n",
       "      <th></th>\n",
       "      <th></th>\n",
       "      <th></th>\n",
       "      <th></th>\n",
       "      <th></th>\n",
       "      <th></th>\n",
       "    </tr>\n",
       "  </thead>\n",
       "  <tbody>\n",
       "    <tr>\n",
       "      <th>1001012</th>\n",
       "      <td>30</td>\n",
       "      <td>2</td>\n",
       "      <td>34.90</td>\n",
       "      <td>2</td>\n",
       "      <td>3</td>\n",
       "      <td>2</td>\n",
       "      <td>232</td>\n",
       "    </tr>\n",
       "    <tr>\n",
       "      <th>1001013</th>\n",
       "      <td>41</td>\n",
       "      <td>1</td>\n",
       "      <td>60.99</td>\n",
       "      <td>2</td>\n",
       "      <td>1</td>\n",
       "      <td>3</td>\n",
       "      <td>213</td>\n",
       "    </tr>\n",
       "    <tr>\n",
       "      <th>1001014</th>\n",
       "      <td>43</td>\n",
       "      <td>3</td>\n",
       "      <td>71.95</td>\n",
       "      <td>2</td>\n",
       "      <td>3</td>\n",
       "      <td>3</td>\n",
       "      <td>233</td>\n",
       "    </tr>\n",
       "    <tr>\n",
       "      <th>1001015</th>\n",
       "      <td>180</td>\n",
       "      <td>1</td>\n",
       "      <td>18.95</td>\n",
       "      <td>1</td>\n",
       "      <td>1</td>\n",
       "      <td>1</td>\n",
       "      <td>111</td>\n",
       "    </tr>\n",
       "    <tr>\n",
       "      <th>1001016</th>\n",
       "      <td>21</td>\n",
       "      <td>2</td>\n",
       "      <td>70.94</td>\n",
       "      <td>3</td>\n",
       "      <td>3</td>\n",
       "      <td>3</td>\n",
       "      <td>333</td>\n",
       "    </tr>\n",
       "  </tbody>\n",
       "</table>\n",
       "</div>"
      ],
      "text/plain": [
       "         Recency  Frequency  Monetary  R_Tertile  F_Tertile  M_Tertile  \\\n",
       "cust_id                                                                  \n",
       "1001012       30          2     34.90          2          3          2   \n",
       "1001013       41          1     60.99          2          1          3   \n",
       "1001014       43          3     71.95          2          3          3   \n",
       "1001015      180          1     18.95          1          1          1   \n",
       "1001016       21          2     70.94          3          3          3   \n",
       "\n",
       "        RFM_Score  \n",
       "cust_id            \n",
       "1001012       232  \n",
       "1001013       213  \n",
       "1001014       233  \n",
       "1001015       111  \n",
       "1001016       333  "
      ]
     },
     "execution_count": 32,
     "metadata": {},
     "output_type": "execute_result"
    }
   ],
   "source": [
    "rfm_segmentation['RFM_Score'] = rfm_segmentation.R_Tertile.map(str) \\\n",
    "                            + rfm_segmentation.F_Tertile.map(str) \\\n",
    "                            + rfm_segmentation.M_Tertile.map(str)\n",
    "rfm_segmentation.head()"
   ]
  },
  {
   "cell_type": "code",
   "execution_count": 33,
   "id": "82e4de11-e944-40c6-b2b5-e8ea90723f17",
   "metadata": {},
   "outputs": [],
   "source": [
    "# create segmentation classification\n",
    "# NOTE : This can be later customized depending on business needs\n",
    "\n",
    "segment_name = {'112':'ABOUT TO SLEEP',\n",
    "                '113':'ABOUT TO SLEEP', \n",
    "                '121':'ABOUT TO SLEEP',\n",
    "                '122':'ABOUT TO SLEEP',\n",
    "                '131':'ABOUT TO SLEEP',\n",
    "                \n",
    "                '211':'ABOUT TO SLEEP',\n",
    "                '212':'ABOUT TO SLEEP',\n",
    "                '221':'ABOUT TO SLEEP', \n",
    "\n",
    "                '311':'RECENT CUSTOMER',\n",
    "                '312':'RECENT CUSTOMER', \n",
    "                '313':'RECENT CUSTOMER',\n",
    "\n",
    "                '123':'CANNOT LOOSE THEM',\n",
    "                '132':'CANNOT LOOSE THEM', \n",
    "                '133':'CANNOT LOOSE THEM',\n",
    "\n",
    "                '333':'CHAMPION',\n",
    "                '111':'LOST CUSTOMER',\n",
    "\n",
    "                '233':'LOYAL',\n",
    "                '232':'LOYAL',\n",
    "                '323':'LOYAL', \n",
    "                '332':'LOYAL',\n",
    "\n",
    "                '223':'POTENTIAL LOYALIST',\n",
    "                '223':'POTENTIAL LOYALIST', \n",
    "                '322':'POTENTIAL LOYALIST',\n",
    "                '331':'POTENTIAL LOYALIST',\n",
    "\n",
    "                '213':'AVERAGE',\n",
    "                '222':'AVERAGE', \n",
    "                '231':'AVERAGE',\n",
    "                '321':'AVERAGE'}"
   ]
  },
  {
   "cell_type": "code",
   "execution_count": 34,
   "id": "6ededf1d-6fd3-4126-a015-a8ea4f3d21dd",
   "metadata": {},
   "outputs": [],
   "source": [
    "rfm_segmentation['segment_name'] = rfm_segmentation['RFM_Score'].map(segment_name)"
   ]
  },
  {
   "cell_type": "code",
   "execution_count": 35,
   "id": "751af06e-de74-4797-873e-1f154a155cf7",
   "metadata": {},
   "outputs": [
    {
     "data": {
      "text/html": [
       "<div>\n",
       "<style scoped>\n",
       "    .dataframe tbody tr th:only-of-type {\n",
       "        vertical-align: middle;\n",
       "    }\n",
       "\n",
       "    .dataframe tbody tr th {\n",
       "        vertical-align: top;\n",
       "    }\n",
       "\n",
       "    .dataframe thead th {\n",
       "        text-align: right;\n",
       "    }\n",
       "</style>\n",
       "<table border=\"1\" class=\"dataframe\">\n",
       "  <thead>\n",
       "    <tr style=\"text-align: right;\">\n",
       "      <th></th>\n",
       "      <th>Recency</th>\n",
       "      <th>Frequency</th>\n",
       "      <th>Monetary</th>\n",
       "      <th>R_Tertile</th>\n",
       "      <th>F_Tertile</th>\n",
       "      <th>M_Tertile</th>\n",
       "      <th>RFM_Score</th>\n",
       "      <th>segment_name</th>\n",
       "    </tr>\n",
       "    <tr>\n",
       "      <th>cust_id</th>\n",
       "      <th></th>\n",
       "      <th></th>\n",
       "      <th></th>\n",
       "      <th></th>\n",
       "      <th></th>\n",
       "      <th></th>\n",
       "      <th></th>\n",
       "      <th></th>\n",
       "    </tr>\n",
       "  </thead>\n",
       "  <tbody>\n",
       "    <tr>\n",
       "      <th>1001012</th>\n",
       "      <td>30</td>\n",
       "      <td>2</td>\n",
       "      <td>34.90</td>\n",
       "      <td>2</td>\n",
       "      <td>3</td>\n",
       "      <td>2</td>\n",
       "      <td>232</td>\n",
       "      <td>LOYAL</td>\n",
       "    </tr>\n",
       "    <tr>\n",
       "      <th>1001013</th>\n",
       "      <td>41</td>\n",
       "      <td>1</td>\n",
       "      <td>60.99</td>\n",
       "      <td>2</td>\n",
       "      <td>1</td>\n",
       "      <td>3</td>\n",
       "      <td>213</td>\n",
       "      <td>AVERAGE</td>\n",
       "    </tr>\n",
       "    <tr>\n",
       "      <th>1001014</th>\n",
       "      <td>43</td>\n",
       "      <td>3</td>\n",
       "      <td>71.95</td>\n",
       "      <td>2</td>\n",
       "      <td>3</td>\n",
       "      <td>3</td>\n",
       "      <td>233</td>\n",
       "      <td>LOYAL</td>\n",
       "    </tr>\n",
       "    <tr>\n",
       "      <th>1001015</th>\n",
       "      <td>180</td>\n",
       "      <td>1</td>\n",
       "      <td>18.95</td>\n",
       "      <td>1</td>\n",
       "      <td>1</td>\n",
       "      <td>1</td>\n",
       "      <td>111</td>\n",
       "      <td>LOST CUSTOMER</td>\n",
       "    </tr>\n",
       "    <tr>\n",
       "      <th>1001016</th>\n",
       "      <td>21</td>\n",
       "      <td>2</td>\n",
       "      <td>70.94</td>\n",
       "      <td>3</td>\n",
       "      <td>3</td>\n",
       "      <td>3</td>\n",
       "      <td>333</td>\n",
       "      <td>CHAMPION</td>\n",
       "    </tr>\n",
       "  </tbody>\n",
       "</table>\n",
       "</div>"
      ],
      "text/plain": [
       "         Recency  Frequency  Monetary  R_Tertile  F_Tertile  M_Tertile  \\\n",
       "cust_id                                                                  \n",
       "1001012       30          2     34.90          2          3          2   \n",
       "1001013       41          1     60.99          2          1          3   \n",
       "1001014       43          3     71.95          2          3          3   \n",
       "1001015      180          1     18.95          1          1          1   \n",
       "1001016       21          2     70.94          3          3          3   \n",
       "\n",
       "        RFM_Score   segment_name  \n",
       "cust_id                           \n",
       "1001012       232          LOYAL  \n",
       "1001013       213        AVERAGE  \n",
       "1001014       233          LOYAL  \n",
       "1001015       111  LOST CUSTOMER  \n",
       "1001016       333       CHAMPION  "
      ]
     },
     "execution_count": 35,
     "metadata": {},
     "output_type": "execute_result"
    }
   ],
   "source": [
    "rfm_segmentation.head()"
   ]
  },
  {
   "cell_type": "code",
   "execution_count": 36,
   "id": "0df09932-4d55-4301-ac64-6b2ad818587b",
   "metadata": {},
   "outputs": [
    {
     "data": {
      "text/plain": [
       "segment_name      \n",
       "ABOUT TO SLEEP        7208\n",
       "RECENT CUSTOMER       4738\n",
       "LOST CUSTOMER         2638\n",
       "LOYAL                 2570\n",
       "CHAMPION              1670\n",
       "AVERAGE               1238\n",
       "CANNOT LOOSE THEM     1142\n",
       "POTENTIAL LOYALIST      37\n",
       "dtype: int64"
      ]
     },
     "execution_count": 36,
     "metadata": {},
     "output_type": "execute_result"
    }
   ],
   "source": [
    "rfm_segmentation[['segment_name']].value_counts()"
   ]
  },
  {
   "cell_type": "code",
   "execution_count": 38,
   "id": "526f9fd1-f1ad-465d-a864-5cdf6330a65e",
   "metadata": {},
   "outputs": [
    {
     "data": {
      "text/plain": [
       "<AxesSubplot:>"
      ]
     },
     "execution_count": 38,
     "metadata": {},
     "output_type": "execute_result"
    },
    {
     "data": {
      "image/png": "[encoded data removed]",
      "text/plain": [
       "<Figure size 432x288 with 1 Axes>"
      ]
     },
     "metadata": {
      "needs_background": "light"
     },
     "output_type": "display_data"
    }
   ],
   "source": [
    "# ax = sns.countplot(y=\"segment_name\", data=rfm_segmentation, linewidth=2.5, facecolor=(1, 1, 1, 0), edgecolor=\".2\")\n",
    "rfm_segmentation['segment_name'].value_counts().sort_values().plot(kind = 'barh', color='#3894a1')"
   ]
  },
  {
   "cell_type": "code",
   "execution_count": 39,
   "id": "a53d13d2-fa4a-40f0-ac17-7cf2c2a06c0a",
   "metadata": {},
   "outputs": [
    {
     "data": {
      "text/plain": [
       "segment_name\n",
       "ABOUT TO SLEEP        313023.71\n",
       "LOYAL                 204534.70\n",
       "CHAMPION              200364.01\n",
       "RECENT CUSTOMER       198226.58\n",
       "AVERAGE               113336.60\n",
       "CANNOT LOOSE THEM     102590.49\n",
       "LOST CUSTOMER          45663.04\n",
       "POTENTIAL LOYALIST       851.94\n",
       "Name: Monetary, dtype: float64"
      ]
     },
     "execution_count": 39,
     "metadata": {},
     "output_type": "execute_result"
    }
   ],
   "source": [
    "rfm_segmentation.groupby('segment_name')['Monetary'].sum().sort_values(ascending=False)"
   ]
  },
  {
   "cell_type": "markdown",
   "id": "916b172a-d456-42a6-85ae-27e79f862e98",
   "metadata": {},
   "source": [
    "\n",
    "### Most of our customer are in the About To Sleep segment\n",
    "\n",
    "Lets check the Monetary, Frequency and Recency figures\n"
   ]
  },
  {
   "cell_type": "markdown",
   "id": "6495492f-e95e-46bd-8543-deb0736d76c2",
   "metadata": {},
   "source": [
    "### Monetary"
   ]
  },
  {
   "cell_type": "code",
   "execution_count": 40,
   "id": "4fe9bd6c-ef8c-481f-8a98-5f79f2a0382b",
   "metadata": {},
   "outputs": [
    {
     "data": {
      "text/plain": [
       "<AxesSubplot:ylabel='segment_name'>"
      ]
     },
     "execution_count": 40,
     "metadata": {},
     "output_type": "execute_result"
    },
    {
     "data": {
      "image/png": "[encoded data removed]",
      "text/plain": [
       "<Figure size 432x288 with 1 Axes>"
      ]
     },
     "metadata": {
      "needs_background": "light"
     },
     "output_type": "display_data"
    }
   ],
   "source": [
    "df_bar = rfm_segmentation.groupby('segment_name')['Monetary'].mean().to_frame()\n",
    "df_bar.reset_index(inplace=True)\n",
    "df_bar.sort_values('Monetary', ascending=True).plot(kind='barh', y='Monetary', x='segment_name', color='#3894a1')"
   ]
  },
  {
   "cell_type": "markdown",
   "id": "e73f2394-199e-482c-91ab-df81b81bbd09",
   "metadata": {},
   "source": [
    "\n",
    "Average monetary values still belongs to the **Champion** and **Average** segment,\n"
   ]
  },
  {
   "cell_type": "markdown",
   "id": "61631763-7403-49d8-b0a6-0381d4e5731a",
   "metadata": {},
   "source": [
    "### Frequency"
   ]
  },
  {
   "cell_type": "code",
   "execution_count": 41,
   "id": "2924dfba-7e9e-4a0b-a372-08ad0d467b3f",
   "metadata": {},
   "outputs": [
    {
     "data": {
      "text/plain": [
       "<AxesSubplot:ylabel='segment_name'>"
      ]
     },
     "execution_count": 41,
     "metadata": {},
     "output_type": "execute_result"
    },
    {
     "data": {
      "image/png": "[encoded data removed]",
      "text/plain": [
       "<Figure size 432x288 with 1 Axes>"
      ]
     },
     "metadata": {
      "needs_background": "light"
     },
     "output_type": "display_data"
    }
   ],
   "source": [
    "df_bar = rfm_segmentation.groupby('segment_name')['Frequency'].mean().to_frame()\n",
    "df_bar.reset_index(inplace=True)\n",
    "df_bar.sort_values('Frequency', ascending=True).plot(kind='barh', y='Frequency', x='segment_name', color='#3894a1')"
   ]
  },
  {
   "cell_type": "markdown",
   "id": "0fc35fe6-fff3-4d20-8ca3-f349d674aee7",
   "metadata": {},
   "source": [
    "\n",
    "Frequency top segment are **Champion** and **Loyal**\n"
   ]
  },
  {
   "cell_type": "markdown",
   "id": "cf35b68e-1292-4079-b92b-7938bdb1ca92",
   "metadata": {},
   "source": [
    "\n",
    "### Recency\n"
   ]
  },
  {
   "cell_type": "code",
   "execution_count": 42,
   "id": "0e7f137f-186a-4469-a77b-b63f684828e5",
   "metadata": {},
   "outputs": [
    {
     "data": {
      "text/plain": [
       "<AxesSubplot:ylabel='segment_name'>"
      ]
     },
     "execution_count": 42,
     "metadata": {},
     "output_type": "execute_result"
    },
    {
     "data": {
      "image/png": "[encoded data removed]",
      "text/plain": [
       "<Figure size 432x288 with 1 Axes>"
      ]
     },
     "metadata": {
      "needs_background": "light"
     },
     "output_type": "display_data"
    }
   ],
   "source": [
    "df_bar = rfm_segmentation.groupby('segment_name')['Recency'].mean().to_frame()\n",
    "df_bar.reset_index(inplace=True)\n",
    "df_bar.sort_values('Recency', ascending=False).plot(kind='barh', y='Recency', x='segment_name', color='#3894a1')"
   ]
  },
  {
   "cell_type": "markdown",
   "id": "1c930b8f-04d2-4030-b5e5-6efefb0d335f",
   "metadata": {},
   "source": [
    "\n",
    "We can use this segmentation list to identify potential customers!\n",
    "\n",
    "While also identify which customer to retain with **promotion, loyalty program and discount**\n"
   ]
  },
  {
   "cell_type": "code",
   "execution_count": 44,
   "id": "31fa70e9-edbf-414e-94db-9a5d74930a5f",
   "metadata": {},
   "outputs": [],
   "source": [
    "# Exporting the RFM Segmentation List for information to sales and promotion dept\n",
    "rfm_segmentation.to_excel('Customer_RFM_Segmentation_List.xlsx')"
   ]
  },
  {
   "cell_type": "markdown",
   "id": "cff80e62-d027-46b6-a4c0-3ebf95d0631c",
   "metadata": {},
   "source": [
    "### END"
   ]
  }
 ],
 "metadata": {
  "kernelspec": {
   "display_name": "Python 3 (ipykernel)",
   "language": "python",
   "name": "python3"
  },
  "language_info": {
   "codemirror_mode": {
    "name": "ipython",
    "version": 3
   },
   "file_extension": ".py",
   "mimetype": "text/x-python",
   "name": "python",
   "nbconvert_exporter": "python",
   "pygments_lexer": "ipython3",
   "version": "3.9.7"
  }
 },
 "nbformat": 4,
 "nbformat_minor": 5
}
